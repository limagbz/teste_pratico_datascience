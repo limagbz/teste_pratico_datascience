{
 "cells": [
  {
   "cell_type": "markdown",
   "metadata": {},
   "source": [
    "# Desafio P&D (Machine Learning) Intelivix\n",
    "\n",
    "O objetivo do desafio é fazer identificação de sentimentos utilizando textos extraídos de reviews de filmes através de técnicas de machine learning. Mais precisamente, o problema consiste na criação de um modelo preditivo de classificação (5 classes: Negativo, Ligeiramente Negativo, Neutro, Ligeiramente Positivo, Positivo) de análise de polaridade de sentimentos baseado em frases. \n",
    "\n",
    "Esse notebook tem a seguinte estrutura. Primeiramente é feito o carregamento dos dados e verificação de erros na operação. Depois esses dados são explorados a fim de se obter informações de como proceder na fase de modelagem. Na terceira parte temos o treinamento dos 3 modelos. Após isso é feita a análise dos resultados. E por último temos as conclusões finais."
   ]
  },
  {
   "cell_type": "code",
   "execution_count": 1,
   "metadata": {},
   "outputs": [],
   "source": [
    "import re\n",
    "import nltk\n",
    "import random\n",
    "import warnings\n",
    "import itertools\n",
    "\n",
    "import numpy             as np\n",
    "import pandas            as pd\n",
    "import seaborn           as sns\n",
    "import matplotlib.pyplot as plt\n",
    "\n",
    "from joblib           import dump, load\n",
    "from pathlib          import Path\n",
    "from collections      import Counter\n",
    "from nltk.tokenize    import word_tokenize\n",
    "from nltk.stem        import WordNetLemmatizer\n",
    "from yellowbrick.text import FreqDistVisualizer\n",
    "\n",
    "from sklearn.pipeline                import Pipeline\n",
    "from sklearn.ensemble                import RandomForestClassifier\n",
    "from sklearn.linear_model            import LogisticRegression\n",
    "from sklearn.model_selection         import train_test_split,  GridSearchCV\n",
    "from sklearn.feature_extraction.text import CountVectorizer,  TfidfVectorizer\n",
    "from sklearn.metrics                 import precision_recall_fscore_support, accuracy_score, confusion_matrix\n",
    "from sklearn.naive_bayes             import MultinomialNB\n",
    "\n",
    "# Evaluating on Test Set\n",
    "from sklearn.exceptions import UndefinedMetricWarning\n",
    "warnings.filterwarnings(\"ignore\", category=UndefinedMetricWarning) "
   ]
  },
  {
   "cell_type": "code",
   "execution_count": 2,
   "metadata": {},
   "outputs": [
    {
     "name": "stderr",
     "output_type": "stream",
     "text": [
      "[nltk_data] Downloading package punkt to C:\\Users\\Gabriel\n",
      "[nltk_data]     Lima\\AppData\\Roaming\\nltk_data...\n",
      "[nltk_data]   Package punkt is already up-to-date!\n",
      "[nltk_data] Downloading package wordnet to C:\\Users\\Gabriel\n",
      "[nltk_data]     Lima\\AppData\\Roaming\\nltk_data...\n",
      "[nltk_data]   Package wordnet is already up-to-date!\n"
     ]
    },
    {
     "data": {
      "text/plain": [
       "True"
      ]
     },
     "execution_count": 2,
     "metadata": {},
     "output_type": "execute_result"
    }
   ],
   "source": [
    "# Project folders main paths\n",
    "THISPATH   = Path().absolute()\n",
    "DATAPATH   = THISPATH / \"data\" \n",
    "RAWPATH    = DATAPATH / \"raw\"       # raw data\n",
    "REPORTPATH = THISPATH / \"reports\"\n",
    "\n",
    "# Setting random state for experiment reproducibility\n",
    "RANDOM_STATE = 42\n",
    "random.seed(RANDOM_STATE)\n",
    "np.random.seed(RANDOM_STATE)\n",
    "\n",
    "# Downloading nlkt packages used in the project\n",
    "nltk.download(['punkt', 'wordnet'])"
   ]
  },
  {
   "cell_type": "markdown",
   "metadata": {},
   "source": [
    "## Carregamento dos dados e verificação de erros"
   ]
  },
  {
   "cell_type": "markdown",
   "metadata": {},
   "source": [
    "Os dados utilizados se econtram no arquivo \"train.tsv\". Esse arquivo consiste em uma tabela delimitada por tabs contendo 156060 entradas dispostas em 4 colunas de variáveis como descritas a seguir:\n",
    "\n",
    "* __Id:__ Identificador único da frase\n",
    "* __IdSentenca:__ Identificador da sentença original que origina a frase\n",
    "* __Texto:__ Frase a ser analisada\n",
    "* __Sentimento:__ Sentimento relacionado a frase (ou seja, a classe do problema)"
   ]
  },
  {
   "cell_type": "code",
   "execution_count": 3,
   "metadata": {},
   "outputs": [],
   "source": [
    "reviews_df = pd.read_table(RAWPATH/\"train.tsv\")"
   ]
  },
  {
   "cell_type": "markdown",
   "metadata": {},
   "source": [
    "Após o carregamento é importante verificar alguns erros comuns relacionadas a operalção, isto é, colunas fora do lugar, linhas não carregadas corretamente, entre outros."
   ]
  },
  {
   "cell_type": "code",
   "execution_count": 4,
   "metadata": {},
   "outputs": [
    {
     "data": {
      "text/plain": [
       "(156060, 4)"
      ]
     },
     "execution_count": 4,
     "metadata": {},
     "output_type": "execute_result"
    }
   ],
   "source": [
    "reviews_df.shape"
   ]
  },
  {
   "cell_type": "code",
   "execution_count": 5,
   "metadata": {},
   "outputs": [
    {
     "data": {
      "text/plain": [
       "Id             int64\n",
       "IdSentenca     int64\n",
       "Texto         object\n",
       "Sentimento     int64\n",
       "dtype: object"
      ]
     },
     "execution_count": 5,
     "metadata": {},
     "output_type": "execute_result"
    }
   ],
   "source": [
    "reviews_df.dtypes"
   ]
  },
  {
   "cell_type": "markdown",
   "metadata": {},
   "source": [
    "Observando o codigo acima é possível observar que as linhas e colunas aparentemente foram carregadas corretamente já que as dimensões e os tipos de dados batem. A ideía por trás da analise do tipo das colunas é que caso algum elemento de texto fosse deslocado para uma das outras colunas o tipo de dado acusaria uma coluna do tipo \"object\"."
   ]
  },
  {
   "cell_type": "code",
   "execution_count": 6,
   "metadata": {},
   "outputs": [
    {
     "data": {
      "text/plain": [
       "Id            0\n",
       "IdSentenca    0\n",
       "Texto         0\n",
       "Sentimento    0\n",
       "dtype: int64"
      ]
     },
     "execution_count": 6,
     "metadata": {},
     "output_type": "execute_result"
    }
   ],
   "source": [
    "reviews_df.isna().sum()"
   ]
  },
  {
   "cell_type": "markdown",
   "metadata": {},
   "source": [
    "Outra verificação possível é a de missing values, que neste caso pode mostrar erros de deslocamento de elementos nas colunas. Como pode ser visto não há nenhum problema aparente.\n",
    "\n",
    "Além disso, visualizar alguns elementos da tabela podem ajudar não só na descoberta de erros, mas no entendimento dos dados. Nas linhas abaixo são feitas as verificações dos 5 elementos aleatórios, do topo e do final da tabela."
   ]
  },
  {
   "cell_type": "code",
   "execution_count": 7,
   "metadata": {},
   "outputs": [
    {
     "data": {
      "text/html": [
       "<div>\n",
       "<style scoped>\n",
       "    .dataframe tbody tr th:only-of-type {\n",
       "        vertical-align: middle;\n",
       "    }\n",
       "\n",
       "    .dataframe tbody tr th {\n",
       "        vertical-align: top;\n",
       "    }\n",
       "\n",
       "    .dataframe thead th {\n",
       "        text-align: right;\n",
       "    }\n",
       "</style>\n",
       "<table border=\"1\" class=\"dataframe\">\n",
       "  <thead>\n",
       "    <tr style=\"text-align: right;\">\n",
       "      <th></th>\n",
       "      <th>Id</th>\n",
       "      <th>IdSentenca</th>\n",
       "      <th>Texto</th>\n",
       "      <th>Sentimento</th>\n",
       "    </tr>\n",
       "  </thead>\n",
       "  <tbody>\n",
       "    <tr>\n",
       "      <th>0</th>\n",
       "      <td>1</td>\n",
       "      <td>1</td>\n",
       "      <td>A series of escapades demonstrating the adage ...</td>\n",
       "      <td>1</td>\n",
       "    </tr>\n",
       "    <tr>\n",
       "      <th>1</th>\n",
       "      <td>2</td>\n",
       "      <td>1</td>\n",
       "      <td>A series of escapades demonstrating the adage ...</td>\n",
       "      <td>2</td>\n",
       "    </tr>\n",
       "    <tr>\n",
       "      <th>2</th>\n",
       "      <td>3</td>\n",
       "      <td>1</td>\n",
       "      <td>A series</td>\n",
       "      <td>2</td>\n",
       "    </tr>\n",
       "    <tr>\n",
       "      <th>3</th>\n",
       "      <td>4</td>\n",
       "      <td>1</td>\n",
       "      <td>A</td>\n",
       "      <td>2</td>\n",
       "    </tr>\n",
       "    <tr>\n",
       "      <th>4</th>\n",
       "      <td>5</td>\n",
       "      <td>1</td>\n",
       "      <td>series</td>\n",
       "      <td>2</td>\n",
       "    </tr>\n",
       "  </tbody>\n",
       "</table>\n",
       "</div>"
      ],
      "text/plain": [
       "   Id  IdSentenca                                              Texto  \\\n",
       "0   1           1  A series of escapades demonstrating the adage ...   \n",
       "1   2           1  A series of escapades demonstrating the adage ...   \n",
       "2   3           1                                           A series   \n",
       "3   4           1                                                  A   \n",
       "4   5           1                                             series   \n",
       "\n",
       "   Sentimento  \n",
       "0           1  \n",
       "1           2  \n",
       "2           2  \n",
       "3           2  \n",
       "4           2  "
      ]
     },
     "execution_count": 7,
     "metadata": {},
     "output_type": "execute_result"
    }
   ],
   "source": [
    "reviews_df.head()"
   ]
  },
  {
   "cell_type": "code",
   "execution_count": 8,
   "metadata": {},
   "outputs": [
    {
     "data": {
      "text/html": [
       "<div>\n",
       "<style scoped>\n",
       "    .dataframe tbody tr th:only-of-type {\n",
       "        vertical-align: middle;\n",
       "    }\n",
       "\n",
       "    .dataframe tbody tr th {\n",
       "        vertical-align: top;\n",
       "    }\n",
       "\n",
       "    .dataframe thead th {\n",
       "        text-align: right;\n",
       "    }\n",
       "</style>\n",
       "<table border=\"1\" class=\"dataframe\">\n",
       "  <thead>\n",
       "    <tr style=\"text-align: right;\">\n",
       "      <th></th>\n",
       "      <th>Id</th>\n",
       "      <th>IdSentenca</th>\n",
       "      <th>Texto</th>\n",
       "      <th>Sentimento</th>\n",
       "    </tr>\n",
       "  </thead>\n",
       "  <tbody>\n",
       "    <tr>\n",
       "      <th>95722</th>\n",
       "      <td>95723</td>\n",
       "      <td>5000</td>\n",
       "      <td>'s as sorry</td>\n",
       "      <td>2</td>\n",
       "    </tr>\n",
       "    <tr>\n",
       "      <th>147312</th>\n",
       "      <td>147313</td>\n",
       "      <td>8016</td>\n",
       "      <td>Romantic comedy and Dogme 95 filmmaking may se...</td>\n",
       "      <td>4</td>\n",
       "    </tr>\n",
       "    <tr>\n",
       "      <th>36991</th>\n",
       "      <td>36992</td>\n",
       "      <td>1752</td>\n",
       "      <td>of these days</td>\n",
       "      <td>2</td>\n",
       "    </tr>\n",
       "    <tr>\n",
       "      <th>150211</th>\n",
       "      <td>150212</td>\n",
       "      <td>8182</td>\n",
       "      <td>flinch from its unsettling prognosis</td>\n",
       "      <td>2</td>\n",
       "    </tr>\n",
       "    <tr>\n",
       "      <th>140655</th>\n",
       "      <td>140656</td>\n",
       "      <td>7631</td>\n",
       "      <td>are clinically depressed</td>\n",
       "      <td>1</td>\n",
       "    </tr>\n",
       "  </tbody>\n",
       "</table>\n",
       "</div>"
      ],
      "text/plain": [
       "            Id  IdSentenca                                              Texto  \\\n",
       "95722    95723        5000                                        's as sorry   \n",
       "147312  147313        8016  Romantic comedy and Dogme 95 filmmaking may se...   \n",
       "36991    36992        1752                                      of these days   \n",
       "150211  150212        8182               flinch from its unsettling prognosis   \n",
       "140655  140656        7631                           are clinically depressed   \n",
       "\n",
       "        Sentimento  \n",
       "95722            2  \n",
       "147312           4  \n",
       "36991            2  \n",
       "150211           2  \n",
       "140655           1  "
      ]
     },
     "execution_count": 8,
     "metadata": {},
     "output_type": "execute_result"
    }
   ],
   "source": [
    "reviews_df.sample(5)"
   ]
  },
  {
   "cell_type": "code",
   "execution_count": 9,
   "metadata": {},
   "outputs": [
    {
     "data": {
      "text/html": [
       "<div>\n",
       "<style scoped>\n",
       "    .dataframe tbody tr th:only-of-type {\n",
       "        vertical-align: middle;\n",
       "    }\n",
       "\n",
       "    .dataframe tbody tr th {\n",
       "        vertical-align: top;\n",
       "    }\n",
       "\n",
       "    .dataframe thead th {\n",
       "        text-align: right;\n",
       "    }\n",
       "</style>\n",
       "<table border=\"1\" class=\"dataframe\">\n",
       "  <thead>\n",
       "    <tr style=\"text-align: right;\">\n",
       "      <th></th>\n",
       "      <th>Id</th>\n",
       "      <th>IdSentenca</th>\n",
       "      <th>Texto</th>\n",
       "      <th>Sentimento</th>\n",
       "    </tr>\n",
       "  </thead>\n",
       "  <tbody>\n",
       "    <tr>\n",
       "      <th>156055</th>\n",
       "      <td>156056</td>\n",
       "      <td>8544</td>\n",
       "      <td>Hearst 's</td>\n",
       "      <td>2</td>\n",
       "    </tr>\n",
       "    <tr>\n",
       "      <th>156056</th>\n",
       "      <td>156057</td>\n",
       "      <td>8544</td>\n",
       "      <td>forced avuncular chortles</td>\n",
       "      <td>1</td>\n",
       "    </tr>\n",
       "    <tr>\n",
       "      <th>156057</th>\n",
       "      <td>156058</td>\n",
       "      <td>8544</td>\n",
       "      <td>avuncular chortles</td>\n",
       "      <td>3</td>\n",
       "    </tr>\n",
       "    <tr>\n",
       "      <th>156058</th>\n",
       "      <td>156059</td>\n",
       "      <td>8544</td>\n",
       "      <td>avuncular</td>\n",
       "      <td>2</td>\n",
       "    </tr>\n",
       "    <tr>\n",
       "      <th>156059</th>\n",
       "      <td>156060</td>\n",
       "      <td>8544</td>\n",
       "      <td>chortles</td>\n",
       "      <td>2</td>\n",
       "    </tr>\n",
       "  </tbody>\n",
       "</table>\n",
       "</div>"
      ],
      "text/plain": [
       "            Id  IdSentenca                      Texto  Sentimento\n",
       "156055  156056        8544                  Hearst 's           2\n",
       "156056  156057        8544  forced avuncular chortles           1\n",
       "156057  156058        8544         avuncular chortles           3\n",
       "156058  156059        8544                  avuncular           2\n",
       "156059  156060        8544                   chortles           2"
      ]
     },
     "execution_count": 9,
     "metadata": {},
     "output_type": "execute_result"
    }
   ],
   "source": [
    "reviews_df.tail()"
   ]
  },
  {
   "cell_type": "markdown",
   "metadata": {},
   "source": [
    "Para simplicar o trabalho nas etapas posteriores, as colunas Id e IdSentença são transformadas em identificadores da tabela dos dados. Além disso as variáveis passam a ter nomes minúsculos como padrão para evitar problemas de case."
   ]
  },
  {
   "cell_type": "code",
   "execution_count": 4,
   "metadata": {},
   "outputs": [
    {
     "data": {
      "text/html": [
       "<div>\n",
       "<style scoped>\n",
       "    .dataframe tbody tr th:only-of-type {\n",
       "        vertical-align: middle;\n",
       "    }\n",
       "\n",
       "    .dataframe tbody tr th {\n",
       "        vertical-align: top;\n",
       "    }\n",
       "\n",
       "    .dataframe thead th {\n",
       "        text-align: right;\n",
       "    }\n",
       "</style>\n",
       "<table border=\"1\" class=\"dataframe\">\n",
       "  <thead>\n",
       "    <tr style=\"text-align: right;\">\n",
       "      <th></th>\n",
       "      <th></th>\n",
       "      <th>text</th>\n",
       "      <th>sentiment</th>\n",
       "    </tr>\n",
       "    <tr>\n",
       "      <th>id</th>\n",
       "      <th>id_sentence</th>\n",
       "      <th></th>\n",
       "      <th></th>\n",
       "    </tr>\n",
       "  </thead>\n",
       "  <tbody>\n",
       "    <tr>\n",
       "      <th>1</th>\n",
       "      <th>1</th>\n",
       "      <td>A series of escapades demonstrating the adage ...</td>\n",
       "      <td>1</td>\n",
       "    </tr>\n",
       "    <tr>\n",
       "      <th>2</th>\n",
       "      <th>1</th>\n",
       "      <td>A series of escapades demonstrating the adage ...</td>\n",
       "      <td>2</td>\n",
       "    </tr>\n",
       "  </tbody>\n",
       "</table>\n",
       "</div>"
      ],
      "text/plain": [
       "                                                             text  sentiment\n",
       "id id_sentence                                                              \n",
       "1  1            A series of escapades demonstrating the adage ...          1\n",
       "2  1            A series of escapades demonstrating the adage ...          2"
      ]
     },
     "execution_count": 4,
     "metadata": {},
     "output_type": "execute_result"
    }
   ],
   "source": [
    "reviews_df = reviews_df.rename(columns = {\"Id\": \"id\", \"IdSentenca\" : \"id_sentence\", \"Texto\": \"text\", \"Sentimento\": \"sentiment\"})\n",
    "reviews_df = reviews_df.set_index([\"id\", \"id_sentence\"])\n",
    "reviews_df.head(2)"
   ]
  },
  {
   "cell_type": "markdown",
   "metadata": {},
   "source": [
    "# Análise Exploratória"
   ]
  },
  {
   "cell_type": "markdown",
   "metadata": {},
   "source": [
    "Nesse passo é feita uma análise exploratória das frases dos banco de dados. O objetivo é encontrar a melhor forma de proceder nas etapas seguintes de pré-processamento e modelagem. Para facilitar essa parte os dados foram divididos em tabelas de acordo com suas classes."
   ]
  },
  {
   "cell_type": "code",
   "execution_count": 11,
   "metadata": {},
   "outputs": [],
   "source": [
    "class0_corpus = reviews_df.query(\"sentiment == 0\")\n",
    "class1_corpus = reviews_df.query(\"sentiment == 1\")\n",
    "class2_corpus = reviews_df.query(\"sentiment == 2\")\n",
    "class3_corpus = reviews_df.query(\"sentiment == 3\")\n",
    "class4_corpus = reviews_df.query(\"sentiment == 4\")"
   ]
  },
  {
   "cell_type": "markdown",
   "metadata": {},
   "source": [
    "### Desbalanceamento\n",
    "\n",
    "Desbalancamento das classes é algo que em geral dificulta a performance dos algoritmos. Isso ocorre porque muitos algoritmos assumem igualdade na distribuição das classes e em caso de desbalanceamento isso pode favorecer a performance das classes majoritárias. Muitas técnicas e algoritmos podem ser utilizados para resolver esse problema.\n",
    "\n",
    "Fazendo uma análise da distribuição temos:"
   ]
  },
  {
   "cell_type": "code",
   "execution_count": 12,
   "metadata": {},
   "outputs": [
    {
     "name": "stdout",
     "output_type": "stream",
     "text": [
      "The distributions of the classes are: \n",
      "{1: '27273 (17.5%)', 2: '79582 (51.0%)', 3: '32927 (21.1%)', 4: '9206 (5.9%)', 0: '7072 (4.5%)'}\n"
     ]
    },
    {
     "data": {
      "text/plain": [
       "<matplotlib.axes._subplots.AxesSubplot at 0x209b66c2080>"
      ]
     },
     "execution_count": 12,
     "metadata": {},
     "output_type": "execute_result"
    },
    {
     "data": {
      "image/png": "[encoded data removed]",
      "text/plain": [
       "<Figure size 432x288 with 1 Axes>"
      ]
     },
     "metadata": {
      "needs_background": "light"
     },
     "output_type": "display_data"
    }
   ],
   "source": [
    "unbalance_count = dict(Counter(reviews_df.sentiment))\n",
    "unbalance_count = {key:str(value) + \" (\" + str(round(value/sum(dict(unbalance_count).values())*100, 1)) + \"%)\" for (key,value) in unbalance_count.items()}\n",
    "\n",
    "print(\"The distributions of the classes are: \")\n",
    "print(unbalance_count)\n",
    "sns.countplot(x=\"sentiment\", data=reviews_df)"
   ]
  },
  {
   "cell_type": "markdown",
   "metadata": {},
   "source": [
    "Como pode ser observado, temos um alto grau de desbalancamento favorecendo a classe neutra (vermelha - 2) que representa mais da metade das frases do banco de dados. Além disso, quanto mais extremo o tipo de sentimento menor a presença de frases."
   ]
  },
  {
   "cell_type": "markdown",
   "metadata": {},
   "source": [
    "### Frases e Sentenças\n",
    "\n",
    "Cada frase representa um conjunto de palavras e símbolos. Nesse caso é importante tentar quantificar a distribuição dessas palavras para tentar obtewr alguma informação adicional. Fazendo uma análise manual dos dados é possível fazer algumas observações importantes:\n",
    "\n",
    "* Cada frase é composta por partes de uma sentença original e apresentam palavras e símbolos repetidos entre elas.\n",
    "* Existem muitas frases pequenas (com até uma palavra)\n",
    "* Muitas dessas palavras são stop words, ou seja, palavras comuns que em geral não ajudam a diferenciar documentos (e.g. \"it's\", \"to\", \"the\")\n",
    "* Pontuação pode ser o diferencial entre duas classes\n",
    "* Frases da mesma sentença em geral apresentam classes diferentes\n",
    "\n",
    "Abaixo há alguns exemplos dos pontos citados:"
   ]
  },
  {
   "cell_type": "code",
   "execution_count": 13,
   "metadata": {},
   "outputs": [
    {
     "data": {
      "text/html": [
       "<div>\n",
       "<style scoped>\n",
       "    .dataframe tbody tr th:only-of-type {\n",
       "        vertical-align: middle;\n",
       "    }\n",
       "\n",
       "    .dataframe tbody tr th {\n",
       "        vertical-align: top;\n",
       "    }\n",
       "\n",
       "    .dataframe thead th {\n",
       "        text-align: right;\n",
       "    }\n",
       "</style>\n",
       "<table border=\"1\" class=\"dataframe\">\n",
       "  <thead>\n",
       "    <tr style=\"text-align: right;\">\n",
       "      <th></th>\n",
       "      <th></th>\n",
       "      <th>text</th>\n",
       "      <th>sentiment</th>\n",
       "    </tr>\n",
       "    <tr>\n",
       "      <th>id</th>\n",
       "      <th>id_sentence</th>\n",
       "      <th></th>\n",
       "      <th></th>\n",
       "    </tr>\n",
       "  </thead>\n",
       "  <tbody>\n",
       "    <tr>\n",
       "      <th>63</th>\n",
       "      <th>1</th>\n",
       "      <td>.</td>\n",
       "      <td>2</td>\n",
       "    </tr>\n",
       "    <tr>\n",
       "      <th>77</th>\n",
       "      <th>2</th>\n",
       "      <td>is worth seeking .</td>\n",
       "      <td>3</td>\n",
       "    </tr>\n",
       "    <tr>\n",
       "      <th>78</th>\n",
       "      <th>2</th>\n",
       "      <td>is worth seeking</td>\n",
       "      <td>4</td>\n",
       "    </tr>\n",
       "    <tr>\n",
       "      <th>80</th>\n",
       "      <th>2</th>\n",
       "      <td>worth</td>\n",
       "      <td>2</td>\n",
       "    </tr>\n",
       "    <tr>\n",
       "      <th>81</th>\n",
       "      <th>2</th>\n",
       "      <td>seeking</td>\n",
       "      <td>2</td>\n",
       "    </tr>\n",
       "    <tr>\n",
       "      <th>93</th>\n",
       "      <th>3</th>\n",
       "      <td>'s</td>\n",
       "      <td>2</td>\n",
       "    </tr>\n",
       "    <tr>\n",
       "      <th>99</th>\n",
       "      <th>3</th>\n",
       "      <td>I</td>\n",
       "      <td>2</td>\n",
       "    </tr>\n",
       "  </tbody>\n",
       "</table>\n",
       "</div>"
      ],
      "text/plain": [
       "                              text  sentiment\n",
       "id id_sentence                               \n",
       "63 1                             .          2\n",
       "77 2            is worth seeking .          3\n",
       "78 2              is worth seeking          4\n",
       "80 2                         worth          2\n",
       "81 2                       seeking          2\n",
       "93 3                            's          2\n",
       "99 3                             I          2"
      ]
     },
     "execution_count": 13,
     "metadata": {},
     "output_type": "execute_result"
    }
   ],
   "source": [
    "reviews_df.loc[[63, 77,78, 80, 81, 93, 99]]"
   ]
  },
  {
   "cell_type": "markdown",
   "metadata": {},
   "source": [
    "#### Quantidade de palavras x frases\n",
    "\n",
    "Para entender melhor algum dos pontos acima, primeiramente é feita a distribuição da quantidade de palavras por frase em relação ao conjunto inteiro e entre as classes"
   ]
  },
  {
   "cell_type": "code",
   "execution_count": 14,
   "metadata": {},
   "outputs": [
    {
     "data": {
      "text/html": [
       "<div>\n",
       "<style scoped>\n",
       "    .dataframe tbody tr th:only-of-type {\n",
       "        vertical-align: middle;\n",
       "    }\n",
       "\n",
       "    .dataframe tbody tr th {\n",
       "        vertical-align: top;\n",
       "    }\n",
       "\n",
       "    .dataframe thead th {\n",
       "        text-align: right;\n",
       "    }\n",
       "</style>\n",
       "<table border=\"1\" class=\"dataframe\">\n",
       "  <thead>\n",
       "    <tr style=\"text-align: right;\">\n",
       "      <th></th>\n",
       "      <th>total</th>\n",
       "      <th>class0</th>\n",
       "      <th>class1</th>\n",
       "      <th>class2</th>\n",
       "      <th>class3</th>\n",
       "      <th>class4</th>\n",
       "    </tr>\n",
       "  </thead>\n",
       "  <tbody>\n",
       "    <tr>\n",
       "      <th>count</th>\n",
       "      <td>156060.00</td>\n",
       "      <td>7072.00</td>\n",
       "      <td>27273.00</td>\n",
       "      <td>79582.00</td>\n",
       "      <td>32927.00</td>\n",
       "      <td>9206.00</td>\n",
       "    </tr>\n",
       "    <tr>\n",
       "      <th>mean</th>\n",
       "      <td>7.20</td>\n",
       "      <td>12.11</td>\n",
       "      <td>9.11</td>\n",
       "      <td>5.19</td>\n",
       "      <td>8.45</td>\n",
       "      <td>10.70</td>\n",
       "    </tr>\n",
       "    <tr>\n",
       "      <th>std</th>\n",
       "      <td>7.02</td>\n",
       "      <td>8.76</td>\n",
       "      <td>7.61</td>\n",
       "      <td>5.35</td>\n",
       "      <td>7.57</td>\n",
       "      <td>8.49</td>\n",
       "    </tr>\n",
       "    <tr>\n",
       "      <th>min</th>\n",
       "      <td>1.00</td>\n",
       "      <td>1.00</td>\n",
       "      <td>1.00</td>\n",
       "      <td>1.00</td>\n",
       "      <td>1.00</td>\n",
       "      <td>1.00</td>\n",
       "    </tr>\n",
       "    <tr>\n",
       "      <th>25%</th>\n",
       "      <td>2.00</td>\n",
       "      <td>5.00</td>\n",
       "      <td>3.00</td>\n",
       "      <td>2.00</td>\n",
       "      <td>3.00</td>\n",
       "      <td>4.00</td>\n",
       "    </tr>\n",
       "    <tr>\n",
       "      <th>50%</th>\n",
       "      <td>5.00</td>\n",
       "      <td>10.00</td>\n",
       "      <td>7.00</td>\n",
       "      <td>3.00</td>\n",
       "      <td>6.00</td>\n",
       "      <td>8.00</td>\n",
       "    </tr>\n",
       "    <tr>\n",
       "      <th>75%</th>\n",
       "      <td>10.00</td>\n",
       "      <td>17.00</td>\n",
       "      <td>13.00</td>\n",
       "      <td>6.00</td>\n",
       "      <td>11.00</td>\n",
       "      <td>15.00</td>\n",
       "    </tr>\n",
       "    <tr>\n",
       "      <th>max</th>\n",
       "      <td>52.00</td>\n",
       "      <td>52.00</td>\n",
       "      <td>51.00</td>\n",
       "      <td>51.00</td>\n",
       "      <td>51.00</td>\n",
       "      <td>52.00</td>\n",
       "    </tr>\n",
       "  </tbody>\n",
       "</table>\n",
       "</div>"
      ],
      "text/plain": [
       "           total   class0    class1    class2    class3   class4\n",
       "count  156060.00  7072.00  27273.00  79582.00  32927.00  9206.00\n",
       "mean        7.20    12.11      9.11      5.19      8.45    10.70\n",
       "std         7.02     8.76      7.61      5.35      7.57     8.49\n",
       "min         1.00     1.00      1.00      1.00      1.00     1.00\n",
       "25%         2.00     5.00      3.00      2.00      3.00     4.00\n",
       "50%         5.00    10.00      7.00      3.00      6.00     8.00\n",
       "75%        10.00    17.00     13.00      6.00     11.00    15.00\n",
       "max        52.00    52.00     51.00     51.00     51.00    52.00"
      ]
     },
     "execution_count": 14,
     "metadata": {},
     "output_type": "execute_result"
    }
   ],
   "source": [
    "count_phrase_words = lambda df: df.text.apply(lambda x: len(x.split(\" \")))\n",
    "\n",
    "phrase_word_count = count_phrase_words(reviews_df)\n",
    "\n",
    "class0_word_count = count_phrase_words(class0_corpus)\n",
    "class1_word_count = count_phrase_words(class1_corpus)\n",
    "class2_word_count = count_phrase_words(class2_corpus)\n",
    "class3_word_count = count_phrase_words(class3_corpus)\n",
    "class4_word_count = count_phrase_words(class4_corpus)\n",
    "\n",
    "pd.concat([phrase_word_count.describe(), class0_word_count.describe(), class1_word_count.describe(), class2_word_count.describe(), class3_word_count.describe(), class4_word_count.describe()], \n",
    "           axis=1, keys=[\"total\", \"class0\", \"class1\", \"class2\", \"class3\", \"class4\"]).round(decimals=2)"
   ]
  },
  {
   "cell_type": "code",
   "execution_count": 15,
   "metadata": {},
   "outputs": [
    {
     "name": "stderr",
     "output_type": "stream",
     "text": [
      "C:\\Miniconda3\\envs\\desafiointelivix\\lib\\site-packages\\scipy\\stats\\stats.py:1713: FutureWarning: Using a non-tuple sequence for multidimensional indexing is deprecated; use `arr[tuple(seq)]` instead of `arr[seq]`. In the future this will be interpreted as an array index, `arr[np.array(seq)]`, which will result either in an error or a different result.\n",
      "  return np.add.reduce(sorted[indexer] * weights, axis=axis) / sumval\n"
     ]
    },
    {
     "data": {
      "text/plain": [
       "Text(0.5,1,'Class 4')"
      ]
     },
     "execution_count": 15,
     "metadata": {},
     "output_type": "execute_result"
    },
    {
     "data": {
      "image/png": "[encoded data removed]",
      "text/plain": [
       "<Figure size 2160x720 with 6 Axes>"
      ]
     },
     "metadata": {
      "needs_background": "light"
     },
     "output_type": "display_data"
    }
   ],
   "source": [
    "f, axes = plt.subplots(2, 3, figsize=(30, 10))\n",
    "\n",
    "sns.distplot(phrase_word_count, ax=axes[0, 0], color=\"orange\").set_title(\"Total\")\n",
    "sns.distplot(class0_word_count, ax=axes[0, 1]).set_title(\"Class 0\")\n",
    "sns.distplot(class1_word_count, ax=axes[0, 2]).set_title(\"Class 1\")\n",
    "sns.distplot(class2_word_count, ax=axes[1, 0]).set_title(\"Class 2\")\n",
    "sns.distplot(class3_word_count, ax=axes[1, 1]).set_title(\"Class 3\")\n",
    "sns.distplot(class4_word_count, ax=axes[1, 2]).set_title(\"Class 4\")"
   ]
  },
  {
   "cell_type": "markdown",
   "metadata": {},
   "source": [
    "Observando os gráficos e a tabela algumas informações podem ser extraídas:\n",
    "\n",
    "* __Frases Pequenas__: Em geral temos muitas frases pequenas, isso pode ser observado através da distribuição cauda longa nos gráficos\n",
    "* __Tamanho Máximo__: A quantidade de palavras máxima/frase é quase constante em todos as classes\n",
    "* __Intensidade do sentimento__: Há uma correlação onde quanto maior a intensidade maior a tendência de se encontrar frases maiores. Isso pode ser visto que temos uma área maior nas caudas a medida que elas vão sendo mais extremas"
   ]
  },
  {
   "cell_type": "markdown",
   "metadata": {},
   "source": [
    "#### Relação da quantidade de palavras x sentença \n",
    "\n",
    "Aqui a idéia é entender a relação da quantidade de palavras e as sentenças"
   ]
  },
  {
   "cell_type": "code",
   "execution_count": 18,
   "metadata": {},
   "outputs": [],
   "source": [
    "def words_sentence_count(df):\n",
    "    \n",
    "    df_dict = {}\n",
    "\n",
    "    for x in list(set(df.index.get_level_values(1))):\n",
    "        words2dlist = [y.split(\" \") for y in df.xs(x, level=1).text]   # Creates a list of lists from splited phrases\n",
    "        flattenlist = list(itertools.chain.from_iterable(words2dlist)) # flattens the list in a 1D array\n",
    "        df_dict[x]  = len(flattenlist)\n",
    "    \n",
    "    return pd.Series(df_dict)"
   ]
  },
  {
   "cell_type": "code",
   "execution_count": 19,
   "metadata": {},
   "outputs": [
    {
     "data": {
      "text/html": [
       "<div>\n",
       "<style scoped>\n",
       "    .dataframe tbody tr th:only-of-type {\n",
       "        vertical-align: middle;\n",
       "    }\n",
       "\n",
       "    .dataframe tbody tr th {\n",
       "        vertical-align: top;\n",
       "    }\n",
       "\n",
       "    .dataframe thead th {\n",
       "        text-align: right;\n",
       "    }\n",
       "</style>\n",
       "<table border=\"1\" class=\"dataframe\">\n",
       "  <thead>\n",
       "    <tr style=\"text-align: right;\">\n",
       "      <th></th>\n",
       "      <th>total</th>\n",
       "      <th>class0</th>\n",
       "      <th>class1</th>\n",
       "      <th>class2</th>\n",
       "      <th>class3</th>\n",
       "      <th>class4</th>\n",
       "    </tr>\n",
       "  </thead>\n",
       "  <tbody>\n",
       "    <tr>\n",
       "      <th>count</th>\n",
       "      <td>8529.0</td>\n",
       "      <td>2609.00</td>\n",
       "      <td>6001.00</td>\n",
       "      <td>8115.00</td>\n",
       "      <td>6699.00</td>\n",
       "      <td>3123.00</td>\n",
       "    </tr>\n",
       "    <tr>\n",
       "      <th>mean</th>\n",
       "      <td>131.8</td>\n",
       "      <td>32.81</td>\n",
       "      <td>41.41</td>\n",
       "      <td>50.94</td>\n",
       "      <td>41.52</td>\n",
       "      <td>31.55</td>\n",
       "    </tr>\n",
       "    <tr>\n",
       "      <th>std</th>\n",
       "      <td>98.7</td>\n",
       "      <td>38.59</td>\n",
       "      <td>43.32</td>\n",
       "      <td>48.35</td>\n",
       "      <td>45.88</td>\n",
       "      <td>36.55</td>\n",
       "    </tr>\n",
       "    <tr>\n",
       "      <th>min</th>\n",
       "      <td>1.0</td>\n",
       "      <td>1.00</td>\n",
       "      <td>1.00</td>\n",
       "      <td>1.00</td>\n",
       "      <td>1.00</td>\n",
       "      <td>1.00</td>\n",
       "    </tr>\n",
       "    <tr>\n",
       "      <th>25%</th>\n",
       "      <td>56.0</td>\n",
       "      <td>9.00</td>\n",
       "      <td>10.00</td>\n",
       "      <td>17.00</td>\n",
       "      <td>9.00</td>\n",
       "      <td>7.00</td>\n",
       "    </tr>\n",
       "    <tr>\n",
       "      <th>50%</th>\n",
       "      <td>111.0</td>\n",
       "      <td>20.00</td>\n",
       "      <td>27.00</td>\n",
       "      <td>36.00</td>\n",
       "      <td>25.00</td>\n",
       "      <td>19.00</td>\n",
       "    </tr>\n",
       "    <tr>\n",
       "      <th>75%</th>\n",
       "      <td>185.0</td>\n",
       "      <td>43.00</td>\n",
       "      <td>58.00</td>\n",
       "      <td>70.00</td>\n",
       "      <td>59.00</td>\n",
       "      <td>42.00</td>\n",
       "    </tr>\n",
       "    <tr>\n",
       "      <th>max</th>\n",
       "      <td>751.0</td>\n",
       "      <td>362.00</td>\n",
       "      <td>351.00</td>\n",
       "      <td>400.00</td>\n",
       "      <td>376.00</td>\n",
       "      <td>408.00</td>\n",
       "    </tr>\n",
       "  </tbody>\n",
       "</table>\n",
       "</div>"
      ],
      "text/plain": [
       "        total   class0   class1   class2   class3   class4\n",
       "count  8529.0  2609.00  6001.00  8115.00  6699.00  3123.00\n",
       "mean    131.8    32.81    41.41    50.94    41.52    31.55\n",
       "std      98.7    38.59    43.32    48.35    45.88    36.55\n",
       "min       1.0     1.00     1.00     1.00     1.00     1.00\n",
       "25%      56.0     9.00    10.00    17.00     9.00     7.00\n",
       "50%     111.0    20.00    27.00    36.00    25.00    19.00\n",
       "75%     185.0    43.00    58.00    70.00    59.00    42.00\n",
       "max     751.0   362.00   351.00   400.00   376.00   408.00"
      ]
     },
     "execution_count": 19,
     "metadata": {},
     "output_type": "execute_result"
    }
   ],
   "source": [
    "word_sentence_count = words_sentence_count(reviews_df)\n",
    "\n",
    "class0_word_sentence_count = words_sentence_count(class0_corpus)\n",
    "class1_word_sentence_count = words_sentence_count(class1_corpus)\n",
    "class2_word_sentence_count = words_sentence_count(class2_corpus)\n",
    "class3_word_sentence_count = words_sentence_count(class3_corpus)\n",
    "class4_word_sentence_count = words_sentence_count(class4_corpus)\n",
    "\n",
    "pd.concat([word_sentence_count.describe(), class0_word_sentence_count.describe(), class1_word_sentence_count.describe(), class2_word_sentence_count.describe(), class3_word_sentence_count.describe(), class4_word_sentence_count.describe()], \n",
    "           axis=1, keys=[\"total\", \"class0\", \"class1\", \"class2\", \"class3\", \"class4\"]).round(decimals=2)"
   ]
  },
  {
   "cell_type": "code",
   "execution_count": 20,
   "metadata": {},
   "outputs": [
    {
     "data": {
      "text/plain": [
       "Text(0.5,1,'Class 4')"
      ]
     },
     "execution_count": 20,
     "metadata": {},
     "output_type": "execute_result"
    },
    {
     "data": {
      "image/png": "[encoded data removed]",
      "text/plain": [
       "<Figure size 2160x720 with 6 Axes>"
      ]
     },
     "metadata": {
      "needs_background": "light"
     },
     "output_type": "display_data"
    }
   ],
   "source": [
    "f, axes = plt.subplots(2, 3, figsize=(30, 10))\n",
    "\n",
    "sns.distplot(word_sentence_count, ax=axes[0, 0], color=\"orange\").set_title(\"Total\")\n",
    "sns.distplot(class0_word_sentence_count, ax=axes[0, 1]).set_title(\"Class 0\")\n",
    "sns.distplot(class1_word_sentence_count, ax=axes[0, 2]).set_title(\"Class 1\")\n",
    "sns.distplot(class2_word_sentence_count, ax=axes[1, 0]).set_title(\"Class 2\")\n",
    "sns.distplot(class3_word_sentence_count, ax=axes[1, 1]).set_title(\"Class 3\")\n",
    "sns.distplot(class4_word_sentence_count, ax=axes[1, 2]).set_title(\"Class 4\")"
   ]
  },
  {
   "cell_type": "markdown",
   "metadata": {},
   "source": [
    "Observando os dados acima temos que a distribuição de quantidade de palavras extraídas por sentença nas frases é aparentemente proximas entre as classes não-neutras. Observando o gráfico amarelo é possivel notar também que temos muitas sentenças menores que 100 palavras."
   ]
  },
  {
   "cell_type": "markdown",
   "metadata": {},
   "source": [
    "### Frequência das palavras\n",
    "\n",
    "Após a análise quantitativa das palavras em relação as frases. O objetivo aqui é analisar a frequencia das palavras no banco e em relação as classes. Isso é importante para tentar entender quais palavras afetam mais ou menos a classificação.\n",
    "\n",
    "Para atingir esse objetivo toda a análise é feita a partir de um pré-processamento como seguido como descrito abaixo:\n",
    "\n",
    "* Todas as frases são divididas em tokens utilizando o [word_tokenize](https://www.nltk.org/api/nltk.tokenize.html#module-nltk.tokenize.punkt) da biblioteca nltk, esse tokenizer flexibiliza a aparição de pontuação já que ela é diferencial na diferenciação entre classes\n",
    "* Os tokens são passados pelo WordNetLemmatizer que busca reduzir os tokens as suas formas mais \"puras\" (desflexionadas), o objetivo aqui é diminuir a quantidade de features\n",
    "* Somente tokens de tamanho 1 (1-gram) são utilizados\n",
    "* Tokens compostos somente de números são removidas já que elas não fazem tanta diferença na classificação de sentimentos\n",
    "* Letras acentuadas são transformadas nas suas formas mais simples (i.e. sem acentuação)\n",
    "\n",
    "Para facilitar essa informação, as palavras são plotadas de acordo com a função definida abaixo."
   ]
  },
  {
   "cell_type": "code",
   "execution_count": 6,
   "metadata": {},
   "outputs": [],
   "source": [
    "def plot_word_frequency(X, vectorizer, n=50, figsize=(25, 5), title=None):\n",
    "    plt.figure(figsize=figsize)\n",
    "    a = pd.Series({x:y for x, y in zip(vectorizer.get_feature_names(), X.toarray().sum(axis=0))}).to_frame(\"count\").sort_values(\"count\", ascending=False)[:n]\n",
    "    sns.barplot(x=a.index, y='count', data=a).set_title(title)\n",
    "\n",
    "class LemmaTokenizer(object):\n",
    "    def __init__(self):\n",
    "        self.wnl = WordNetLemmatizer()\n",
    "    def __call__(self, articles):\n",
    "        return [self.wnl.lemmatize(t).strip() for t in word_tokenize(articles) if re.search(\"[0-9]\", t, flags=0) == None]"
   ]
  },
  {
   "cell_type": "markdown",
   "metadata": {},
   "source": [
    "Para simplificar um pouco mais essa análise as classes 0 e 1 serão tratados como sentimento negativos, a classe 2 como neutro e as classes 3 e 4 como sentimento positivo."
   ]
  },
  {
   "cell_type": "code",
   "execution_count": 23,
   "metadata": {},
   "outputs": [],
   "source": [
    "negative_df = reviews_df.query(\"sentiment == 0 or sentiment == 1\")\n",
    "neutral_df  = reviews_df.query(\"sentiment == 2\")\n",
    "positive_df = reviews_df.query(\"sentiment == 3 or sentiment == 4\")"
   ]
  },
  {
   "cell_type": "markdown",
   "metadata": {},
   "source": [
    "Tokenizando os textos temos"
   ]
  },
  {
   "cell_type": "code",
   "execution_count": 24,
   "metadata": {},
   "outputs": [],
   "source": [
    "total_vectorizer    = CountVectorizer(strip_accents=\"unicode\", lowercase=True, tokenizer=LemmaTokenizer(), analyzer=\"word\")\n",
    "positive_vectorizer = CountVectorizer(strip_accents=\"unicode\", lowercase=True, tokenizer=LemmaTokenizer(), analyzer=\"word\")\n",
    "neutral_vectorizer  = CountVectorizer(strip_accents=\"unicode\", lowercase=True, tokenizer=LemmaTokenizer(), analyzer=\"word\")\n",
    "negative_vectorizer = CountVectorizer(strip_accents=\"unicode\", lowercase=True, tokenizer=LemmaTokenizer(), analyzer=\"word\")"
   ]
  },
  {
   "cell_type": "code",
   "execution_count": 25,
   "metadata": {},
   "outputs": [],
   "source": [
    "wordsfreqvec_total    = total_vectorizer.fit_transform(reviews_df.text)\n",
    "wordsfreqvec_neutral  = positive_vectorizer.fit_transform(neutral_df.text)\n",
    "wordsfreqvec_positive = neutral_vectorizer.fit_transform(positive_df.text)\n",
    "wordsfreqvec_negative = negative_vectorizer.fit_transform(negative_df.text)"
   ]
  },
  {
   "cell_type": "code",
   "execution_count": 26,
   "metadata": {},
   "outputs": [],
   "source": [
    "negative_features = negative_vectorizer.get_feature_names()\n",
    "positive_features = positive_vectorizer.get_feature_names()\n",
    "neutral_features  = neutral_vectorizer.get_feature_names()"
   ]
  },
  {
   "cell_type": "markdown",
   "metadata": {},
   "source": [
    "#### Todas as classes"
   ]
  },
  {
   "cell_type": "code",
   "execution_count": 28,
   "metadata": {},
   "outputs": [
    {
     "data": {
      "image/png": "[encoded data removed]",
      "text/plain": [
       "<Figure size 1800x360 with 1 Axes>"
      ]
     },
     "metadata": {
      "needs_background": "light"
     },
     "output_type": "display_data"
    }
   ],
   "source": [
    "plot_word_frequency(wordsfreqvec_total, total_vectorizer, figsize=(25, 5), title=\"total\")"
   ]
  },
  {
   "cell_type": "markdown",
   "metadata": {},
   "source": [
    "#### Classe Negativa"
   ]
  },
  {
   "cell_type": "code",
   "execution_count": 29,
   "metadata": {},
   "outputs": [
    {
     "name": "stdout",
     "output_type": "stream",
     "text": [
      "Quantidade de palavras unicas no conjunto em relação aos positivos:  322 (e.g. ['prechewed', 'audacious-impossible', 'laziest', 'vile', 'tumbleweed'])\n",
      "Quantidade de palavras unicas no conjunto em relação aos neutros:    3175 (e.g. ['idiotic', 'dissecting', 'veered', 'fleeing', 'unnamed'])\n",
      "\n"
     ]
    },
    {
     "data": {
      "image/png": "[encoded data removed]",
      "text/plain": [
       "<Figure size 1800x360 with 1 Axes>"
      ]
     },
     "metadata": {
      "needs_background": "light"
     },
     "output_type": "display_data"
    }
   ],
   "source": [
    "diff_positive = list(set(negative_features) - set(positive_features))\n",
    "diff_neutral  = list(set(negative_features) - set(neutral_features))\n",
    "\n",
    "print(\"Quantidade de palavras unicas no conjunto em relação aos positivos:  %s (e.g. %s)\" %(len(diff_positive), random.sample(diff_positive, 5)))\n",
    "print(\"Quantidade de palavras unicas no conjunto em relação aos neutros:    %s (e.g. %s)\" %(len(diff_neutral),  random.sample(diff_neutral, 5)))\n",
    "print()\n",
    "\n",
    "plot_word_frequency(wordsfreqvec_negative, negative_vectorizer, figsize=(25, 5), title=\"negative\")"
   ]
  },
  {
   "cell_type": "markdown",
   "metadata": {},
   "source": [
    "#### Classe Positiva"
   ]
  },
  {
   "cell_type": "code",
   "execution_count": 30,
   "metadata": {},
   "outputs": [
    {
     "name": "stdout",
     "output_type": "stream",
     "text": [
      "Quantidade de palavras unicas no conjunto em relação aos negativos:  3284 (e.g. ['carter', 'nighttime', 'duty', 'twilight', 'smartest'])\n",
      "Quantidade de palavras unicas no conjunto em relação aos neutros:    3179 (e.g. ['squirm-inducing', 'decter', 'sprinkled', 'soberly', 'persnickety'])\n",
      "\n"
     ]
    },
    {
     "data": {
      "image/png": "[encoded data removed]",
      "text/plain": [
       "<Figure size 1800x360 with 1 Axes>"
      ]
     },
     "metadata": {
      "needs_background": "light"
     },
     "output_type": "display_data"
    }
   ],
   "source": [
    "diff_negative = list(set(positive_features) - set(negative_features))\n",
    "diff_neutral  = list(set(positive_features) - set(neutral_features))\n",
    "\n",
    "print(\"Quantidade de palavras unicas no conjunto em relação aos negativos:  %s (e.g. %s)\" %(len(diff_negative), random.sample(diff_negative, 5)))\n",
    "print(\"Quantidade de palavras unicas no conjunto em relação aos neutros:    %s (e.g. %s)\" %(len(diff_neutral),  random.sample(diff_neutral, 5)))\n",
    "print()\n",
    "\n",
    "plot_word_frequency(wordsfreqvec_negative, negative_vectorizer, figsize=(25, 5), title=\"negative\")"
   ]
  },
  {
   "cell_type": "markdown",
   "metadata": {},
   "source": [
    "#### Classe Neutra"
   ]
  },
  {
   "cell_type": "code",
   "execution_count": 31,
   "metadata": {},
   "outputs": [
    {
     "name": "stdout",
     "output_type": "stream",
     "text": [
      "Quantidade de palavras unicas no conjunto em relação aos positivos:  3248 (e.g. ['huge-screen', 'diction', 'sportsman', 'reopens', 'stunning'])\n",
      "Quantidade de palavras unicas no conjunto em relação aos negativos:  290 (e.g. ['cheerfully', 'metaphysical', 'well-contructed', 'vibrance', 'enlivens'])\n",
      "\n"
     ]
    },
    {
     "data": {
      "image/png": "[encoded data removed]",
      "text/plain": [
       "<Figure size 1800x360 with 1 Axes>"
      ]
     },
     "metadata": {
      "needs_background": "light"
     },
     "output_type": "display_data"
    }
   ],
   "source": [
    "diff_negative = list(set(neutral_features) - set(negative_features))\n",
    "diff_positive  = list(set(neutral_features) - set(positive_features))\n",
    "\n",
    "print(\"Quantidade de palavras unicas no conjunto em relação aos positivos:  %s (e.g. %s)\" %(len(diff_negative), random.sample(diff_negative, 5)))\n",
    "print(\"Quantidade de palavras unicas no conjunto em relação aos negativos:  %s (e.g. %s)\" %(len(diff_positive), random.sample(diff_positive, 5)))\n",
    "print()\n",
    "\n",
    "plot_word_frequency(wordsfreqvec_negative, negative_vectorizer, figsize=(25, 5), title=\"negative\")"
   ]
  },
  {
   "cell_type": "markdown",
   "metadata": {},
   "source": [
    "Acima é possível tirar algumas conclusões\n",
    "\n",
    "* Como esperado stop words são as palavras mais frequentes em todos os casos\n",
    "* Há Muitas palavras em comum entre as classes\n",
    "* Em relação as palavras únicas não temos uma grande quantidade de palavras que possam diferenciar as classes, isso ainda é um pouco mais agravente para o caso da classe dos negativos (entre neutros e positivos)"
   ]
  },
  {
   "cell_type": "markdown",
   "metadata": {},
   "source": [
    "# Modelagem\n",
    "\n",
    "Baseado nas informações extraídas até aqui, algumas hipoteses vão direcionar essa modelagem:\n",
    "\n",
    "* A remoção de stop words e simbolos pode diminuir muito a performance dos modelos, já que muitas das frases são compostas por elas.\n",
    "* Uso de 1-grams podem não ajudar muito a análise já que muitos símbolos e stop words vão aparecer e eles tem uma representação em todos as classes\n",
    "* As classes negativas talvez tenham um maior problema para ser diferenciadas\n",
    "* Desbalanceamento talvez não afete muito a performance já que os sentimentos apresentam frases maiores, isso aliado ao uso de bi ou tri-grams (que dão mais contexto) talvez ajudem"
   ]
  },
  {
   "cell_type": "markdown",
   "metadata": {},
   "source": [
    "## Pré-Processamento\n",
    "\n",
    "Portanto a abordagema  ser seguida será a utilização do algoritmo de _TF-IDF com 1-gram e 2-gram_ para aumentar o contexto do modelo e dar menor peso para as palavras mais frequentes. A tokenização será como utilizada na análise exploratória, isto é, sem numeros, símbolos mais flexíveis e lematização."
   ]
  },
  {
   "cell_type": "code",
   "execution_count": 7,
   "metadata": {},
   "outputs": [],
   "source": [
    "tfidf_2gram = TfidfVectorizer(strip_accents=\"unicode\", lowercase=True, tokenizer=LemmaTokenizer(), analyzer=\"word\", ngram_range=(1, 2))"
   ]
  },
  {
   "cell_type": "markdown",
   "metadata": {},
   "source": [
    "## Dataset Split"
   ]
  },
  {
   "cell_type": "markdown",
   "metadata": {},
   "source": [
    "Para evitar viés na avaliação, utilizaremos uma separação dos dados em 70/30 para treinamento e validação."
   ]
  },
  {
   "cell_type": "code",
   "execution_count": 8,
   "metadata": {},
   "outputs": [],
   "source": [
    "X = reviews_df.text\n",
    "y = reviews_df.sentiment\n",
    "\n",
    "X_train, X_test, y_train, y_test = train_test_split(X, y, test_size=0.3, random_state=RANDOM_STATE, shuffle=True, stratify=y)"
   ]
  },
  {
   "cell_type": "markdown",
   "metadata": {},
   "source": [
    "## Experimentos\n",
    "\n",
    "Os experimentos a seguir são feitos utilizado um 5-fold cross validation utilizando um grid-search nos parâmetros definidos em cada um dos modelos. Esses passos são implementados utilizando pipelines do scikit-learn. A escolha por um grid search é feita somente devido ao tempo necessário ser um pouco menor caso comparado a utilização de um random search (mesmo que o ultimo tenha em geral resultados melhores). A escolha dos hiperparâmetros é feita baseado no [post](http://blog.kaggle.com/2016/07/21/approaching-almost-any-machine-learning-problem-abhishek-thakur/) feito por Abhishek Thakur para o blog oficial do kaggle."
   ]
  },
  {
   "cell_type": "code",
   "execution_count": 12,
   "metadata": {},
   "outputs": [],
   "source": [
    "# Save Results on disk\n",
    "\n",
    "def save_gc_results(X_train, X_test, y_test, tfidf_vec, gscv, train_path, results_path):\n",
    "    \n",
    "    # Saving Training Results\n",
    "    train_path.mkdir(parents=True, exist_ok=True)\n",
    "    pd.DataFrame(gscv.cv_results_).to_csv(train_path / \"trainvalid.csv\")\n",
    "    dump(gscv.best_estimator_, train_path / 'bestmodel.joblib') \n",
    "    \n",
    "    # Evaluating Test Scores\n",
    "    tfidf_vec.fit(X_train)\n",
    "    test_transformed = tfidf_vec.transform(X_test)\n",
    "    \n",
    "    best_model_predictions = gscv.best_estimator_.predict(X_test)\n",
    "    \n",
    "    prf_scores = precision_recall_fscore_support(y_test, best_model_predictions, average=\"weighted\")\n",
    "    acc_scores = accuracy_score(y_test, best_model_predictions)\n",
    "    \n",
    "    # Saving Test Scores\n",
    "    test_scores = pd.Series([acc_scores, prf_scores[0], prf_scores[1], prf_scores[2]], index=[\"accuracy\", \"precision\", \"recall\", \"f1\"])\n",
    "    \n",
    "    if (results_path / \"test_results.csv\").exists() == False:\n",
    "        test_scores.to_frame().transpose().to_csv(results_path / \"test_results.csv\")\n",
    "    else:\n",
    "        pd.read_csv(results_path / \"test_results.csv\", index_col=0).append(test_scores, ignore_index=True).to_csv(results_path / \"test_results.csv\")\n",
    "    \n",
    "    # Printing Results\n",
    "    print(\"Validation Score: %s\" %gscv.best_score_)\n",
    "    \n",
    "    print()\n",
    "    print(\"Test Scores:\")\n",
    "    print(test_scores)\n",
    "    print()"
   ]
  },
  {
   "cell_type": "markdown",
   "metadata": {},
   "source": [
    "### Experimento 01: Logistic Regression\n",
    "\n",
    "O primeiro experimento é feito utilizando uma regressão logística. Esse modelo foi escolhido devido ao seu uso em larga escala como modelo base em experimentos de machine learning além de ser muito utilzado em aplicações de NLP. Esse modelo será usado como baseline para o treinamento dos outros."
   ]
  },
  {
   "cell_type": "code",
   "execution_count": 7,
   "metadata": {},
   "outputs": [],
   "source": [
    "lr_params = {\n",
    "    \"lr__C\":       [0.001, 0.01, 0.1, 1, 10, 100],\n",
    "    \"lr__solver\":  [\"newton-cg\", \"sag\", \"saga\", \"lbfgs\"]\n",
    "}\n",
    "\n",
    "model_lr = LogisticRegression(random_state=RANDOM_STATE, penalty=\"l2\", multi_class=\"multinomial\")"
   ]
  },
  {
   "cell_type": "code",
   "execution_count": 13,
   "metadata": {},
   "outputs": [
    {
     "name": "stdout",
     "output_type": "stream",
     "text": [
      "Fitting 5 folds for each of 24 candidates, totalling 120 fits\n"
     ]
    },
    {
     "name": "stderr",
     "output_type": "stream",
     "text": [
      "[Parallel(n_jobs=4)]: Using backend LokyBackend with 4 concurrent workers.\n",
      "[Parallel(n_jobs=4)]: Done  42 tasks      | elapsed: 19.8min\n",
      "[Parallel(n_jobs=4)]: Done 120 out of 120 | elapsed: 58.8min finished\n"
     ]
    },
    {
     "data": {
      "text/plain": [
       "GridSearchCV(cv=5, error_score='raise-deprecating',\n",
       "       estimator=Pipeline(memory=None,\n",
       "     steps=[('TFIDF2', TfidfVectorizer(analyzer='word', binary=False, decode_error='strict',\n",
       "        dtype=<class 'numpy.float64'>, encoding='utf-8', input='content',\n",
       "        lowercase=True, max_df=1.0, max_features=None, min_df=1,\n",
       "        ngram_range=(1, 2), norm='l2', preprocessor=None, smooth_idf=True..., penalty='l2', random_state=42, solver='warn',\n",
       "          tol=0.0001, verbose=0, warm_start=False))]),\n",
       "       fit_params=None, iid='warn', n_jobs=4,\n",
       "       param_grid={'lr__C': [0.001, 0.01, 0.1, 1, 10, 100], 'lr__solver': ['newton-cg', 'sag', 'saga', 'lbfgs']},\n",
       "       pre_dispatch='2*n_jobs', refit='f1_weighted',\n",
       "       return_train_score=True,\n",
       "       scoring=['accuracy', 'f1_weighted', 'precision_weighted', 'recall_weighted'],\n",
       "       verbose=1)"
      ]
     },
     "execution_count": 13,
     "metadata": {},
     "output_type": "execute_result"
    }
   ],
   "source": [
    "pipe_lr_tf_2 = Pipeline([(\"TFIDF2\", tfidf_2gram), (\"lr\", model_lr)])\n",
    "gscv_lr_tf_2 = GridSearchCV(pipe_lr_tf_2, lr_params, cv=5, scoring=[\"accuracy\", \"f1_weighted\", \"precision_weighted\", \"recall_weighted\"], n_jobs=4, refit=\"f1_weighted\", verbose=1, return_train_score=True)\n",
    "gscv_lr_tf_2.fit(X_train, y_train)"
   ]
  },
  {
   "cell_type": "code",
   "execution_count": null,
   "metadata": {},
   "outputs": [
    {
     "name": "stdout",
     "output_type": "stream",
     "text": [
      "Validation Score: 0.6285613786491036\n",
      "\n",
      "Test Scores:\n",
      "accuracy     0.650498\n",
      "precision    0.639193\n",
      "recall       0.650498\n",
      "f1           0.641762\n",
      "dtype: float64\n",
      "\n"
     ]
    },
    {
     "data": {
      "text/plain": [
       "7"
      ]
     },
     "execution_count": 14,
     "metadata": {},
     "output_type": "execute_result"
    }
   ],
   "source": [
    "# Test Set Evaluation and saving\n",
    "EXP01PATH    = REPORTPATH / \"exp01\"\n",
    "save_gc_results(X_train, X_test, y_test, tfidf_2gram, gscv_lr_tf_2, EXP01PATH, REPORTPATH)"
   ]
  },
  {
   "cell_type": "markdown",
   "metadata": {},
   "source": [
    "### Experimento 02: Multinomial Naive Bayes\n",
    "\n",
    "O segundo modelo escolhido é o Naive Bayes Multinomial. Em geral, o algoritmo Naive Bayes é um classico em aplicações de NLP como detecção de spam. A versão multinomial foi escolhida especialmente por ser uma melhoria do gaussiano que ainda leva em conta o desbalanceamento dos dados."
   ]
  },
  {
   "cell_type": "code",
   "execution_count": 18,
   "metadata": {},
   "outputs": [],
   "source": [
    "nb_params = {\n",
    "    \"nb__alpha\":  [0, 1, 2, 3, 4, 5],\n",
    "}\n",
    "\n",
    "model_nb = MultinomialNB()"
   ]
  },
  {
   "cell_type": "code",
   "execution_count": 21,
   "metadata": {},
   "outputs": [
    {
     "name": "stdout",
     "output_type": "stream",
     "text": [
      "Fitting 5 folds for each of 6 candidates, totalling 30 fits\n"
     ]
    },
    {
     "name": "stderr",
     "output_type": "stream",
     "text": [
      "[Parallel(n_jobs=4)]: Using backend LokyBackend with 4 concurrent workers.\n",
      "[Parallel(n_jobs=4)]: Done  30 out of  30 | elapsed: 13.5min finished\n",
      "C:\\Miniconda3\\envs\\desafiointelivix\\lib\\site-packages\\sklearn\\naive_bayes.py:480: UserWarning: alpha too small will result in numeric errors, setting alpha = 1.0e-10\n",
      "  'setting alpha = %.1e' % _ALPHA_MIN)\n"
     ]
    },
    {
     "data": {
      "text/plain": [
       "GridSearchCV(cv=5, error_score='raise-deprecating',\n",
       "       estimator=Pipeline(memory=None,\n",
       "     steps=[('TFIDF2', TfidfVectorizer(analyzer='word', binary=False, decode_error='strict',\n",
       "        dtype=<class 'numpy.float64'>, encoding='utf-8', input='content',\n",
       "        lowercase=True, max_df=1.0, max_features=None, min_df=1,\n",
       "        ngram_range=(1, 2), norm='l2', preprocessor=None, smooth_idf=True...use_idf=True, vocabulary=None)), ('nb', MultinomialNB(alpha=1.0, class_prior=None, fit_prior=True))]),\n",
       "       fit_params=None, iid='warn', n_jobs=4,\n",
       "       param_grid={'nb__alpha': [0, 1, 2, 3, 4, 5]},\n",
       "       pre_dispatch='2*n_jobs', refit='f1_weighted',\n",
       "       return_train_score=True,\n",
       "       scoring=['accuracy', 'f1_weighted', 'precision_weighted', 'recall_weighted'],\n",
       "       verbose=2)"
      ]
     },
     "execution_count": 21,
     "metadata": {},
     "output_type": "execute_result"
    }
   ],
   "source": [
    "pipe_nb_tf_2 = Pipeline([(\"TFIDF2\", tfidf_2gram), (\"nb\", model_nb)])\n",
    "gscv_nb_tf_2 = GridSearchCV(pipe_nb_tf_2, nb_params, cv=5, scoring=[\"accuracy\", \"f1_weighted\", \"precision_weighted\", \"recall_weighted\"], n_jobs=4, refit=\"f1_weighted\", verbose=2, return_train_score=True)\n",
    "gscv_nb_tf_2.fit(X_train, y_train)"
   ]
  },
  {
   "cell_type": "code",
   "execution_count": 22,
   "metadata": {},
   "outputs": [
    {
     "name": "stdout",
     "output_type": "stream",
     "text": [
      "Validation Score: 0.5757219724898847\n",
      "\n",
      "Test Scores:\n",
      "accuracy     0.591717\n",
      "precision    0.605144\n",
      "recall       0.591717\n",
      "f1           0.597032\n",
      "dtype: float64\n",
      "\n"
     ]
    },
    {
     "ename": "NameError",
     "evalue": "name 'gc' is not defined",
     "output_type": "error",
     "traceback": [
      "\u001b[1;31m---------------------------------------------------------------------------\u001b[0m",
      "\u001b[1;31mNameError\u001b[0m                                 Traceback (most recent call last)",
      "\u001b[1;32m<ipython-input-22-4fb8ed66b79f>\u001b[0m in \u001b[0;36m<module>\u001b[1;34m\u001b[0m\n\u001b[0;32m      1\u001b[0m \u001b[0mEXP02PATH\u001b[0m    \u001b[1;33m=\u001b[0m \u001b[0mREPORTPATH\u001b[0m \u001b[1;33m/\u001b[0m \u001b[1;34m\"exp02\"\u001b[0m\u001b[1;33m\u001b[0m\u001b[1;33m\u001b[0m\u001b[0m\n\u001b[0;32m      2\u001b[0m \u001b[0msave_gc_results\u001b[0m\u001b[1;33m(\u001b[0m\u001b[0mX_train\u001b[0m\u001b[1;33m,\u001b[0m \u001b[0mX_test\u001b[0m\u001b[1;33m,\u001b[0m \u001b[0my_test\u001b[0m\u001b[1;33m,\u001b[0m \u001b[0mtfidf_2gram\u001b[0m\u001b[1;33m,\u001b[0m \u001b[0mgscv_nb_tf_2\u001b[0m\u001b[1;33m,\u001b[0m \u001b[0mEXP02PATH\u001b[0m\u001b[1;33m,\u001b[0m \u001b[0mREPORTPATH\u001b[0m\u001b[1;33m)\u001b[0m\u001b[1;33m\u001b[0m\u001b[1;33m\u001b[0m\u001b[0m\n\u001b[1;32m----> 3\u001b[1;33m \u001b[0mgc\u001b[0m\u001b[1;33m.\u001b[0m\u001b[0mcollect\u001b[0m\u001b[1;33m(\u001b[0m\u001b[1;33m)\u001b[0m\u001b[1;33m\u001b[0m\u001b[1;33m\u001b[0m\u001b[0m\n\u001b[0m",
      "\u001b[1;31mNameError\u001b[0m: name 'gc' is not defined"
     ]
    }
   ],
   "source": [
    "EXP02PATH    = REPORTPATH / \"exp02\"\n",
    "save_gc_results(X_train, X_test, y_test, tfidf_2gram, gscv_nb_tf_2, EXP02PATH, REPORTPATH)"
   ]
  },
  {
   "cell_type": "markdown",
   "metadata": {},
   "source": [
    "### Experiemento 03: Random Forest\n",
    "\n",
    "Por último temos o uso do Random Forest. Esse algoritmo utiliza da técnica de bagging que agrupa diversas arvores de decisão aleatoriamente em subconjutnos dos dados. Esse algoritmo tem no geral uma boa performace em diversos tipos de problemas e foi muito utilizado em competições do kaggle obtendo os melhores scores."
   ]
  },
  {
   "cell_type": "code",
   "execution_count": 14,
   "metadata": {},
   "outputs": [],
   "source": [
    "rf_params = {\n",
    "    \"rf__n_estimators\":      [300, 500, 800],\n",
    "    \"rf__max_depth\":         [15, 30, 60, 100],\n",
    "}\n",
    "\n",
    "model_rf = RandomForestClassifier(random_state=RANDOM_STATE)"
   ]
  },
  {
   "cell_type": "code",
   "execution_count": 15,
   "metadata": {},
   "outputs": [
    {
     "name": "stdout",
     "output_type": "stream",
     "text": [
      "Fitting 5 folds for each of 12 candidates, totalling 60 fits\n"
     ]
    },
    {
     "name": "stderr",
     "output_type": "stream",
     "text": [
      "[Parallel(n_jobs=4)]: Using backend LokyBackend with 4 concurrent workers.\n",
      "[Parallel(n_jobs=4)]: Done  33 tasks      | elapsed: 39.1min\n",
      "[Parallel(n_jobs=4)]: Done  60 out of  60 | elapsed: 175.8min finished\n"
     ]
    },
    {
     "data": {
      "text/plain": [
       "GridSearchCV(cv=5, error_score='raise-deprecating',\n",
       "       estimator=Pipeline(memory=None,\n",
       "     steps=[('TFIDF2', TfidfVectorizer(analyzer='word', binary=False, decode_error='strict',\n",
       "        dtype=<class 'numpy.float64'>, encoding='utf-8', input='content',\n",
       "        lowercase=True, max_df=1.0, max_features=None, min_df=1,\n",
       "        ngram_range=(1, 2), norm='l2', preprocessor=None, smooth_idf=True...rs='warn', n_jobs=None,\n",
       "            oob_score=False, random_state=42, verbose=0, warm_start=False))]),\n",
       "       fit_params=None, iid='warn', n_jobs=4,\n",
       "       param_grid={'rf__n_estimators': [300, 500, 800], 'rf__max_depth': [15, 30, 60, 100]},\n",
       "       pre_dispatch='2*n_jobs', refit='f1_weighted',\n",
       "       return_train_score=True,\n",
       "       scoring=['accuracy', 'f1_weighted', 'precision_weighted', 'recall_weighted'],\n",
       "       verbose=2)"
      ]
     },
     "execution_count": 15,
     "metadata": {},
     "output_type": "execute_result"
    }
   ],
   "source": [
    "pipe_rf_tf_2 = Pipeline([(\"TFIDF2\", tfidf_2gram), (\"rf\", model_rf)])\n",
    "gscv_rf_tf_2 = GridSearchCV(pipe_rf_tf_2, rf_params, cv=5, scoring=[\"accuracy\", \"f1_weighted\", \"precision_weighted\", \"recall_weighted\"], n_jobs=4, refit=\"f1_weighted\", verbose=2, return_train_score=True)\n",
    "gscv_rf_tf_2.fit(X_train, y_train)"
   ]
  },
  {
   "cell_type": "code",
   "execution_count": 16,
   "metadata": {},
   "outputs": [
    {
     "name": "stdout",
     "output_type": "stream",
     "text": [
      "Validation Score: 0.4691695428309017\n",
      "\n",
      "Test Scores:\n",
      "accuracy     0.564655\n",
      "precision    0.577381\n",
      "recall       0.564655\n",
      "f1           0.475319\n",
      "dtype: float64\n",
      "\n"
     ]
    }
   ],
   "source": [
    "EXP03PATH    = REPORTPATH / \"exp03\"\n",
    "save_gc_results(X_train, X_test, y_test, tfidf_2gram, gscv_rf_tf_2, EXP03PATH, REPORTPATH)"
   ]
  },
  {
   "cell_type": "markdown",
   "metadata": {},
   "source": [
    "# Análise dos Resultados\n",
    "\n",
    "Finalmente, é important analisar os resultados obtidos nos modelos utilizados para a solução do problema. Para simplificar o código a função abaixo foi criada para fazer o report dos dados utilizados abaixo."
   ]
  },
  {
   "cell_type": "code",
   "execution_count": 25,
   "metadata": {},
   "outputs": [],
   "source": [
    "def report_results(exp_name, X_train, X_test, y_train, y_test):\n",
    "    \n",
    "    # Best Results\n",
    "    best_results = pd.read_csv(REPORTPATH / exp_name / \"trainvalid.csv\")\n",
    "    best_results = best_results.reindex(sorted(best_results.columns), axis=1).sort_values(\"rank_test_f1_weighted\", axis=0)\n",
    "    \n",
    "    df_dict = {}\n",
    "    for mean, std in zip(best_results.columns[3:10], best_results.columns[60:]):\n",
    "        df_dict[mean] = []\n",
    "        for x, y in zip(best_results[mean], best_results[std]):\n",
    "            df_dict[mean].append((str(round(x, 3)) + \"±\" +  str(round(y, 3))))\n",
    "            \n",
    "    best_results_final = pd.DataFrame(df_dict)\n",
    "            \n",
    "    # Evaluation\n",
    "    tfidf_vec = TfidfVectorizer(strip_accents=\"unicode\", lowercase=True, tokenizer=LemmaTokenizer(), analyzer=\"word\", ngram_range=(1, 2))\n",
    "    tfidf_vec.fit(X_train)\n",
    "    test_transformed = tfidf_vec.transform(X_test)\n",
    "    \n",
    "    best_model_predictions = load(REPORTPATH / exp_name / \"bestmodel.joblib\").predict(X_test)\n",
    "    \n",
    "    # Confusion Matrix\n",
    "    conf_mat = confusion_matrix(y_test, best_model_predictions, labels=[0, 1, 2, 3, 4])\n",
    "    conf_mat = conf_mat.astype('float') / conf_mat.sum(axis=1)[:, np.newaxis]\n",
    "    conf_mat = pd.DataFrame(conf_mat, index = [i for i in \"01234\"], columns = [i for i in \"01234\"])\n",
    "    \n",
    "    # Wrong Predicted Elements\n",
    "    index = 0\n",
    "    wrong_indexes = []\n",
    "    \n",
    "    for tst, prd in zip(y_test, best_model_predictions):\n",
    "        if tst != prd: wrong_indexes.append(index)\n",
    "        index += 1\n",
    "        \n",
    "    wrong_predictions = X_test.iloc[wrong_indexes]\n",
    "        \n",
    "    return best_results_final, wrong_predictions, conf_mat"
   ]
  },
  {
   "cell_type": "markdown",
   "metadata": {},
   "source": [
    "Gerando os resultados para a análise"
   ]
  },
  {
   "cell_type": "code",
   "execution_count": 26,
   "metadata": {},
   "outputs": [],
   "source": [
    "results_report_exp01 = report_results(\"exp01\", X_train, X_test, y_train, y_test)\n",
    "results_report_exp02 = report_results(\"exp02\", X_train, X_test, y_train, y_test)\n",
    "results_report_exp03 = report_results(\"exp03\", X_train, X_test, y_train, y_test)"
   ]
  },
  {
   "cell_type": "markdown",
   "metadata": {},
   "source": [
    "## Conjunto de treinamento e validação\n",
    "\n",
    "A tabela abaixo mostra os 5 melhores resultados para cada um dos experimentos com seus devidos desvios-padrões."
   ]
  },
  {
   "cell_type": "code",
   "execution_count": 27,
   "metadata": {},
   "outputs": [],
   "source": [
    "N_ROWS = 5\n",
    "e1 = results_report_exp01[0].head(N_ROWS).set_index([[\"Exp 01\"] * N_ROWS, results_report_exp01[0].head(N_ROWS).index])\n",
    "e2 = results_report_exp02[0].head(N_ROWS).set_index([[\"Exp 02\"] * N_ROWS, results_report_exp02[0].head(N_ROWS).index])\n",
    "e3 = results_report_exp03[0].head(N_ROWS).set_index([[\"Exp 03\"] * N_ROWS, results_report_exp03[0].head(N_ROWS).index])"
   ]
  },
  {
   "cell_type": "code",
   "execution_count": 28,
   "metadata": {},
   "outputs": [
    {
     "data": {
      "text/html": [
       "<div>\n",
       "<style scoped>\n",
       "    .dataframe tbody tr th:only-of-type {\n",
       "        vertical-align: middle;\n",
       "    }\n",
       "\n",
       "    .dataframe tbody tr th {\n",
       "        vertical-align: top;\n",
       "    }\n",
       "\n",
       "    .dataframe thead th {\n",
       "        text-align: right;\n",
       "    }\n",
       "</style>\n",
       "<table border=\"1\" class=\"dataframe\">\n",
       "  <thead>\n",
       "    <tr style=\"text-align: right;\">\n",
       "      <th></th>\n",
       "      <th></th>\n",
       "      <th>mean_test_accuracy</th>\n",
       "      <th>mean_test_f1_weighted</th>\n",
       "      <th>mean_test_precision_weighted</th>\n",
       "      <th>mean_test_recall_weighted</th>\n",
       "      <th>mean_train_accuracy</th>\n",
       "      <th>mean_train_f1_weighted</th>\n",
       "      <th>mean_train_precision_weighted</th>\n",
       "    </tr>\n",
       "  </thead>\n",
       "  <tbody>\n",
       "    <tr>\n",
       "      <th rowspan=\"5\" valign=\"top\">Exp 01</th>\n",
       "      <th>0</th>\n",
       "      <td>0.638±0.003</td>\n",
       "      <td>0.629±0.003</td>\n",
       "      <td>0.625±0.003</td>\n",
       "      <td>0.638±0.003</td>\n",
       "      <td>0.913±0.0</td>\n",
       "      <td>0.912±0.0</td>\n",
       "      <td>0.912±0.0</td>\n",
       "    </tr>\n",
       "    <tr>\n",
       "      <th>1</th>\n",
       "      <td>0.638±0.003</td>\n",
       "      <td>0.629±0.003</td>\n",
       "      <td>0.625±0.003</td>\n",
       "      <td>0.638±0.003</td>\n",
       "      <td>0.913±0.0</td>\n",
       "      <td>0.912±0.0</td>\n",
       "      <td>0.912±0.0</td>\n",
       "    </tr>\n",
       "    <tr>\n",
       "      <th>2</th>\n",
       "      <td>0.638±0.003</td>\n",
       "      <td>0.629±0.003</td>\n",
       "      <td>0.625±0.003</td>\n",
       "      <td>0.638±0.003</td>\n",
       "      <td>0.913±0.0</td>\n",
       "      <td>0.912±0.0</td>\n",
       "      <td>0.912±0.0</td>\n",
       "    </tr>\n",
       "    <tr>\n",
       "      <th>3</th>\n",
       "      <td>0.639±0.004</td>\n",
       "      <td>0.627±0.003</td>\n",
       "      <td>0.625±0.004</td>\n",
       "      <td>0.639±0.004</td>\n",
       "      <td>0.796±0.007</td>\n",
       "      <td>0.791±0.007</td>\n",
       "      <td>0.793±0.007</td>\n",
       "    </tr>\n",
       "    <tr>\n",
       "      <th>4</th>\n",
       "      <td>0.632±0.006</td>\n",
       "      <td>0.625±0.005</td>\n",
       "      <td>0.622±0.005</td>\n",
       "      <td>0.632±0.006</td>\n",
       "      <td>0.817±0.005</td>\n",
       "      <td>0.815±0.005</td>\n",
       "      <td>0.815±0.005</td>\n",
       "    </tr>\n",
       "    <tr>\n",
       "      <th rowspan=\"5\" valign=\"top\">Exp 02</th>\n",
       "      <th>0</th>\n",
       "      <td>0.569±0.005</td>\n",
       "      <td>0.576±0.005</td>\n",
       "      <td>0.586±0.005</td>\n",
       "      <td>0.569±0.001</td>\n",
       "      <td>0.81±0.001</td>\n",
       "      <td>0.811±0.001</td>\n",
       "      <td>0.813±0.001</td>\n",
       "    </tr>\n",
       "    <tr>\n",
       "      <th>1</th>\n",
       "      <td>0.592±0.002</td>\n",
       "      <td>0.529±0.005</td>\n",
       "      <td>0.594±0.002</td>\n",
       "      <td>0.592±0.001</td>\n",
       "      <td>0.681±0.001</td>\n",
       "      <td>0.63±0.001</td>\n",
       "      <td>0.719±0.001</td>\n",
       "    </tr>\n",
       "    <tr>\n",
       "      <th>2</th>\n",
       "      <td>0.552±0.002</td>\n",
       "      <td>0.442±0.025</td>\n",
       "      <td>0.523±0.001</td>\n",
       "      <td>0.552±0.001</td>\n",
       "      <td>0.593±0.002</td>\n",
       "      <td>0.499±0.019</td>\n",
       "      <td>0.667±0.001</td>\n",
       "    </tr>\n",
       "    <tr>\n",
       "      <th>3</th>\n",
       "      <td>0.531±0.0</td>\n",
       "      <td>0.394±0.003</td>\n",
       "      <td>0.474±0.0</td>\n",
       "      <td>0.531±0.001</td>\n",
       "      <td>0.551±0.001</td>\n",
       "      <td>0.427±0.004</td>\n",
       "      <td>0.554±0.001</td>\n",
       "    </tr>\n",
       "    <tr>\n",
       "      <th>4</th>\n",
       "      <td>0.521±0.001</td>\n",
       "      <td>0.37±0.019</td>\n",
       "      <td>0.441±0.001</td>\n",
       "      <td>0.521±0.0</td>\n",
       "      <td>0.53±0.001</td>\n",
       "      <td>0.388±0.004</td>\n",
       "      <td>0.54±0.0</td>\n",
       "    </tr>\n",
       "    <tr>\n",
       "      <th rowspan=\"5\" valign=\"top\">Exp 03</th>\n",
       "      <th>0</th>\n",
       "      <td>0.561±0.001</td>\n",
       "      <td>0.469±0.002</td>\n",
       "      <td>0.571±0.005</td>\n",
       "      <td>0.561±0.001</td>\n",
       "      <td>0.675±0.001</td>\n",
       "      <td>0.633±0.002</td>\n",
       "      <td>0.801±0.0</td>\n",
       "    </tr>\n",
       "    <tr>\n",
       "      <th>1</th>\n",
       "      <td>0.561±0.001</td>\n",
       "      <td>0.469±0.002</td>\n",
       "      <td>0.571±0.004</td>\n",
       "      <td>0.561±0.001</td>\n",
       "      <td>0.675±0.001</td>\n",
       "      <td>0.633±0.002</td>\n",
       "      <td>0.801±0.001</td>\n",
       "    </tr>\n",
       "    <tr>\n",
       "      <th>2</th>\n",
       "      <td>0.561±0.001</td>\n",
       "      <td>0.468±0.002</td>\n",
       "      <td>0.571±0.005</td>\n",
       "      <td>0.561±0.001</td>\n",
       "      <td>0.675±0.001</td>\n",
       "      <td>0.633±0.001</td>\n",
       "      <td>0.801±0.0</td>\n",
       "    </tr>\n",
       "    <tr>\n",
       "      <th>3</th>\n",
       "      <td>0.532±0.001</td>\n",
       "      <td>0.402±0.002</td>\n",
       "      <td>0.571±0.007</td>\n",
       "      <td>0.532±0.001</td>\n",
       "      <td>0.581±0.001</td>\n",
       "      <td>0.486±0.001</td>\n",
       "      <td>0.764±0.001</td>\n",
       "    </tr>\n",
       "    <tr>\n",
       "      <th>4</th>\n",
       "      <td>0.532±0.001</td>\n",
       "      <td>0.402±0.001</td>\n",
       "      <td>0.57±0.007</td>\n",
       "      <td>0.532±0.001</td>\n",
       "      <td>0.581±0.001</td>\n",
       "      <td>0.485±0.001</td>\n",
       "      <td>0.764±0.001</td>\n",
       "    </tr>\n",
       "  </tbody>\n",
       "</table>\n",
       "</div>"
      ],
      "text/plain": [
       "         mean_test_accuracy mean_test_f1_weighted  \\\n",
       "Exp 01 0        0.638±0.003           0.629±0.003   \n",
       "       1        0.638±0.003           0.629±0.003   \n",
       "       2        0.638±0.003           0.629±0.003   \n",
       "       3        0.639±0.004           0.627±0.003   \n",
       "       4        0.632±0.006           0.625±0.005   \n",
       "Exp 02 0        0.569±0.005           0.576±0.005   \n",
       "       1        0.592±0.002           0.529±0.005   \n",
       "       2        0.552±0.002           0.442±0.025   \n",
       "       3          0.531±0.0           0.394±0.003   \n",
       "       4        0.521±0.001            0.37±0.019   \n",
       "Exp 03 0        0.561±0.001           0.469±0.002   \n",
       "       1        0.561±0.001           0.469±0.002   \n",
       "       2        0.561±0.001           0.468±0.002   \n",
       "       3        0.532±0.001           0.402±0.002   \n",
       "       4        0.532±0.001           0.402±0.001   \n",
       "\n",
       "         mean_test_precision_weighted mean_test_recall_weighted  \\\n",
       "Exp 01 0                  0.625±0.003               0.638±0.003   \n",
       "       1                  0.625±0.003               0.638±0.003   \n",
       "       2                  0.625±0.003               0.638±0.003   \n",
       "       3                  0.625±0.004               0.639±0.004   \n",
       "       4                  0.622±0.005               0.632±0.006   \n",
       "Exp 02 0                  0.586±0.005               0.569±0.001   \n",
       "       1                  0.594±0.002               0.592±0.001   \n",
       "       2                  0.523±0.001               0.552±0.001   \n",
       "       3                    0.474±0.0               0.531±0.001   \n",
       "       4                  0.441±0.001                 0.521±0.0   \n",
       "Exp 03 0                  0.571±0.005               0.561±0.001   \n",
       "       1                  0.571±0.004               0.561±0.001   \n",
       "       2                  0.571±0.005               0.561±0.001   \n",
       "       3                  0.571±0.007               0.532±0.001   \n",
       "       4                   0.57±0.007               0.532±0.001   \n",
       "\n",
       "         mean_train_accuracy mean_train_f1_weighted  \\\n",
       "Exp 01 0           0.913±0.0              0.912±0.0   \n",
       "       1           0.913±0.0              0.912±0.0   \n",
       "       2           0.913±0.0              0.912±0.0   \n",
       "       3         0.796±0.007            0.791±0.007   \n",
       "       4         0.817±0.005            0.815±0.005   \n",
       "Exp 02 0          0.81±0.001            0.811±0.001   \n",
       "       1         0.681±0.001             0.63±0.001   \n",
       "       2         0.593±0.002            0.499±0.019   \n",
       "       3         0.551±0.001            0.427±0.004   \n",
       "       4          0.53±0.001            0.388±0.004   \n",
       "Exp 03 0         0.675±0.001            0.633±0.002   \n",
       "       1         0.675±0.001            0.633±0.002   \n",
       "       2         0.675±0.001            0.633±0.001   \n",
       "       3         0.581±0.001            0.486±0.001   \n",
       "       4         0.581±0.001            0.485±0.001   \n",
       "\n",
       "         mean_train_precision_weighted  \n",
       "Exp 01 0                     0.912±0.0  \n",
       "       1                     0.912±0.0  \n",
       "       2                     0.912±0.0  \n",
       "       3                   0.793±0.007  \n",
       "       4                   0.815±0.005  \n",
       "Exp 02 0                   0.813±0.001  \n",
       "       1                   0.719±0.001  \n",
       "       2                   0.667±0.001  \n",
       "       3                   0.554±0.001  \n",
       "       4                      0.54±0.0  \n",
       "Exp 03 0                     0.801±0.0  \n",
       "       1                   0.801±0.001  \n",
       "       2                     0.801±0.0  \n",
       "       3                   0.764±0.001  \n",
       "       4                   0.764±0.001  "
      ]
     },
     "execution_count": 28,
     "metadata": {},
     "output_type": "execute_result"
    }
   ],
   "source": [
    "pd.concat([e1, e2, e3])"
   ]
  },
  {
   "cell_type": "markdown",
   "metadata": {},
   "source": [
    "Analisando a tabela acima temos que o experimento 01 utilizando regressáo logistica teve resultado superior tanto no treinamento quanto no conjunto de validação. Além disso, as 3 primeiras configurações desse modelo tiveram uma performance semelhante."
   ]
  },
  {
   "cell_type": "markdown",
   "metadata": {},
   "source": [
    "## Conjunto de teste\n",
    "\n",
    "Agora é feita a análise do conjunto de testes "
   ]
  },
  {
   "cell_type": "markdown",
   "metadata": {},
   "source": [
    "### Comparação das métricas"
   ]
  },
  {
   "cell_type": "code",
   "execution_count": 43,
   "metadata": {},
   "outputs": [],
   "source": [
    "test_results = pd.read_csv(REPORTPATH/\"test_results.csv\")\n",
    "test_results_melted = test_results.rename(columns={'Unnamed: 0':'Experiment'})\n",
    "test_results_melted = test_results_melted.melt(id_vars=[\"Experiment\"], value_vars=[\"accuracy\", \"precision\", \"recall\", \"f1\"])"
   ]
  },
  {
   "cell_type": "code",
   "execution_count": 44,
   "metadata": {},
   "outputs": [
    {
     "data": {
      "text/html": [
       "<div>\n",
       "<style scoped>\n",
       "    .dataframe tbody tr th:only-of-type {\n",
       "        vertical-align: middle;\n",
       "    }\n",
       "\n",
       "    .dataframe tbody tr th {\n",
       "        vertical-align: top;\n",
       "    }\n",
       "\n",
       "    .dataframe thead th {\n",
       "        text-align: right;\n",
       "    }\n",
       "</style>\n",
       "<table border=\"1\" class=\"dataframe\">\n",
       "  <thead>\n",
       "    <tr style=\"text-align: right;\">\n",
       "      <th></th>\n",
       "      <th>accuracy</th>\n",
       "      <th>precision</th>\n",
       "      <th>recall</th>\n",
       "      <th>f1</th>\n",
       "    </tr>\n",
       "  </thead>\n",
       "  <tbody>\n",
       "    <tr>\n",
       "      <th>0</th>\n",
       "      <td>0.650498</td>\n",
       "      <td>0.639193</td>\n",
       "      <td>0.650498</td>\n",
       "      <td>0.641762</td>\n",
       "    </tr>\n",
       "    <tr>\n",
       "      <th>1</th>\n",
       "      <td>0.591717</td>\n",
       "      <td>0.605144</td>\n",
       "      <td>0.591717</td>\n",
       "      <td>0.597032</td>\n",
       "    </tr>\n",
       "    <tr>\n",
       "      <th>2</th>\n",
       "      <td>0.564655</td>\n",
       "      <td>0.577381</td>\n",
       "      <td>0.564655</td>\n",
       "      <td>0.475319</td>\n",
       "    </tr>\n",
       "  </tbody>\n",
       "</table>\n",
       "</div>"
      ],
      "text/plain": [
       "   accuracy  precision    recall        f1\n",
       "0  0.650498   0.639193  0.650498  0.641762\n",
       "1  0.591717   0.605144  0.591717  0.597032\n",
       "2  0.564655   0.577381  0.564655  0.475319"
      ]
     },
     "execution_count": 44,
     "metadata": {},
     "output_type": "execute_result"
    }
   ],
   "source": [
    "test_results = test_results.drop('Unnamed: 0', axis=1)\n",
    "test_results"
   ]
  },
  {
   "cell_type": "code",
   "execution_count": 45,
   "metadata": {},
   "outputs": [
    {
     "data": {
      "text/plain": [
       "<matplotlib.axes._subplots.AxesSubplot at 0x26a71250898>"
      ]
     },
     "execution_count": 45,
     "metadata": {},
     "output_type": "execute_result"
    },
    {
     "data": {
      "image/png": "[encoded data removed]",
      "text/plain": [
       "<Figure size 1080x360 with 1 Axes>"
      ]
     },
     "metadata": {},
     "output_type": "display_data"
    }
   ],
   "source": [
    "plt.figure(figsize=(15, 5))\n",
    "\n",
    "sns.set(style=\"whitegrid\")\n",
    "sns.barplot(x=\"Experiment\", y=\"value\", hue=\"variable\", data=test_results_melted)"
   ]
  },
  {
   "cell_type": "markdown",
   "metadata": {},
   "source": [
    "Como pode ser visto no gráfico acima, é possível observar também a superioridade do modelo de regressão logistica no conjunto de testes"
   ]
  },
  {
   "cell_type": "markdown",
   "metadata": {},
   "source": [
    "### Matriz de Confusão"
   ]
  },
  {
   "cell_type": "code",
   "execution_count": 30,
   "metadata": {},
   "outputs": [
    {
     "data": {
      "text/plain": [
       "Text(0.5,1,'Experiment 03')"
      ]
     },
     "execution_count": 30,
     "metadata": {},
     "output_type": "execute_result"
    },
    {
     "data": {
      "image/png": "[encoded data removed]",
      "text/plain": [
       "<Figure size 1800x360 with 6 Axes>"
      ]
     },
     "metadata": {},
     "output_type": "display_data"
    }
   ],
   "source": [
    "f, axes = plt.subplots(1, 3, figsize=(25, 5))\n",
    "\n",
    "sns.heatmap(results_report_exp01[2], annot=True, ax=axes[0]).set_title(\"Experiment 01\")\n",
    "sns.heatmap(results_report_exp02[2], annot=True, ax=axes[1]).set_title(\"Experiment 02\")\n",
    "sns.heatmap(results_report_exp03[2], annot=True, ax=axes[2]).set_title(\"Experiment 03\")"
   ]
  },
  {
   "cell_type": "markdown",
   "metadata": {},
   "source": [
    "Através das matrizes de confusão (normalizadas por suporte) é possível notar que o grande diferencial entre todos os modelos é no reconhecimento da classe das frases neutras, o que é esperado devido ao grau de desbalanceamento. Porém há outros pontos importantes aqui em relação ao desbalanceamento: Todos os modelos no geral tiveram um grau maior taxa de falsos positivos e negativos na classe 2. O que mostra como os algoritmos sofreram o viés do desbalanceamento. Cabe destacar o random forest que teve quase 100% de acerto da classe majoritaria (superando o experimento 01) mas preveu que quase todas os elementos eram da classe 2, ou seja, ele foi o mais impactado pelo desbalanceamento.\n",
    "\n",
    "Além disso, apesar de não ter tido o melhor desempenho, o Multinomial Naive Bayes que foi criado para diminuir os problemas do desbalanceamento, teve uma taxa de acerto um pouco melhor das outras classes em comparação da regressão linear."
   ]
  },
  {
   "cell_type": "markdown",
   "metadata": {},
   "source": [
    "### Elementos mais problemáticos\n",
    "\n",
    "A idéia dessa análise é tentar descobrir se há alguma relação entre os elementos que tiveram problemas de classificação nos 3 modelos. O objetivo é tentar determinar se existe alguma caractéristica em comum que possa estar dificultando a performance dos modelos e uma possível forma de eliminar esse problema"
   ]
  },
  {
   "cell_type": "code",
   "execution_count": 31,
   "metadata": {},
   "outputs": [
    {
     "name": "stdout",
     "output_type": "stream",
     "text": [
      "No total temos 9869 frases incorretamente classificadas nos 3 conjuntos, alguns exemplos são:\n"
     ]
    }
   ],
   "source": [
    "el_exp01 = set(results_report_exp01[1].values)\n",
    "el_exp02 = set(results_report_exp02[1].values)\n",
    "el_exp03 = set(results_report_exp03[1].values)\n",
    "\n",
    "common_elements = list(el_exp01 & el_exp02 & el_exp03)\n",
    "\n",
    "print(\"No total temos %s frases incorretamente classificadas nos 3 conjuntos, alguns exemplos são:\" %len(common_elements)) "
   ]
  },
  {
   "cell_type": "code",
   "execution_count": 32,
   "metadata": {},
   "outputs": [
    {
     "data": {
      "text/plain": [
       "['undernourished',\n",
       " 'really work',\n",
       " 'unexplainable pain',\n",
       " \"it 's funny\",\n",
       " 'high-concept films',\n",
       " \"It 's depressing to see how far Herzog has fallen .\",\n",
       " 'casts its spooky net',\n",
       " 'watching monkeys flinging their feces at you',\n",
       " 'approaches the endeavor with a shocking lack of irony',\n",
       " \"overcomes the script 's flaws and envelops the audience in his character 's anguish , anger and frustration\",\n",
       " \"are n't your bailiwick\",\n",
       " 'do , too little time to do it in',\n",
       " 'huge gap',\n",
       " \"have you swinging from the trees hooting it 's praises\",\n",
       " 'P -RRB-',\n",
       " 'Consider the film a celluloid litmus test for the intellectual and emotional pedigree of your date and a giant step backward for a director I admire',\n",
       " 'intended for the home video market',\n",
       " \"is no doubt that Krawczyk deserves a huge amount of the credit for the film 's thoroughly winning tone .\",\n",
       " 'with two fine , nuanced lead performances',\n",
       " \"Nothing about the film -- with the possible exception of Elizabeth Hurley 's breasts -- is authentic .\",\n",
       " 'Sweet and memorable film',\n",
       " 'leatherbound',\n",
       " 'So bland',\n",
       " 'Pokemon 4Ever',\n",
       " 'because of the ideal casting of the masterful British actor Ian Holm',\n",
       " 'him to churn out one mediocre movie after another',\n",
       " 'the magnificent swooping aerial shots are breathtaking ,',\n",
       " 'the true impact of the day',\n",
       " ', I enjoyed .',\n",
       " 'white-knuckled and unable to look away',\n",
       " 'the effort to share his impressions of life and loss and time and art with us',\n",
       " 'The art direction and costumes are gorgeous and finely detailed ,',\n",
       " \"conveys the passion , creativity , and fearlessness of one of Mexico 's most colorful and controversial artists -- a captivating drama that will speak to the nonconformist in us all\",\n",
       " 'dated and unfunny',\n",
       " 'fragmentary',\n",
       " 'the Sally Jesse Raphael atmosphere of films like Philadelphia and American Beauty',\n",
       " 'Cruel and',\n",
       " 'Sex with Strangers is a success .',\n",
       " 'thinly-conceived',\n",
       " 'a light , yet engrossing piece .',\n",
       " 'this is likely to cause massive cardiac arrest if taken in large doses .',\n",
       " 'much emotional impact',\n",
       " 'drowns in sap .',\n",
       " 'If you can get past the taboo subject matter , it will be well worth your time .',\n",
       " \"to make us care about Zelda 's ultimate fate\",\n",
       " 'is too heavy for all that has preceded it',\n",
       " 'at childhood',\n",
       " 'Bettany strut his stuff',\n",
       " 'depends largely on your appetite for canned corn',\n",
       " 'for a best-foreign-film Oscar']"
      ]
     },
     "execution_count": 32,
     "metadata": {},
     "output_type": "execute_result"
    }
   ],
   "source": [
    "random.sample(common_elements, 50)"
   ]
  },
  {
   "cell_type": "markdown",
   "metadata": {},
   "source": [
    "Como pode ser visto acima, quase 10000 frases foram mal classificadas em todos os modelos, isso representa 6% do conjunto de dados total e 21% do conjunto de testes. Analisando alguns exemplos das frases não é possível encontrar alguma relação entre as frases, porém para afirmar algo seria necessária uma análise mais aprofundada dos casos."
   ]
  },
  {
   "cell_type": "markdown",
   "metadata": {},
   "source": [
    "# Conclusão\n",
    "\n",
    "Foi possível encontrar um modelo interessante para fazer a análise de sentimentos no banco de dados utilizado para uma tarefa complicada. No geral, o desbalanceamento atrapalhou sim a performance dos modelos. Outro fator importante que pode ter impactado a performance foi a pouca variação dos hiperparametros (principalmente no random forest). Alguns passos futuros poderiam ser tomados para atingir uma performance melhor. No pré-processamento:\n",
    "\n",
    "* Explorar o impacto de 3-grams\n",
    "* Uso de outros lemmatizers\n",
    "* Aplicar novas representações como word2vec, Glove\n",
    "* Fazer oversampling dos dados\n",
    "\n",
    "Na fase de modelagem:\n",
    "\n",
    "* Utilzar redes neurais e/ou modelos de deep learning como ConvNets, RNNs e LTSMs\n",
    "* Utilizar random search no lugar do grid-search (ou pelo menos adicionar mais hiperparametros)\n",
    "\n",
    "Na avaliação dos modelos:\n",
    "\n",
    "* 10-Fold Cross validation para ter uma avaliação mais robusta\n",
    "* Aplicação de teste estatístico de hipoteses para comparar os modelos"
   ]
  },
  {
   "cell_type": "code",
   "execution_count": null,
   "metadata": {},
   "outputs": [],
   "source": []
  }
 ],
 "metadata": {
  "kernelspec": {
   "display_name": "Python 3",
   "language": "python",
   "name": "python3"
  },
  "language_info": {
   "codemirror_mode": {
    "name": "ipython",
    "version": 3
   },
   "file_extension": ".py",
   "mimetype": "text/x-python",
   "name": "python",
   "nbconvert_exporter": "python",
   "pygments_lexer": "ipython3",
   "version": "3.7.1"
  }
 },
 "nbformat": 4,
 "nbformat_minor": 2
}
